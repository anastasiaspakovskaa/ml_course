{
 "cells": [
  {
   "cell_type": "markdown",
   "metadata": {
    "id": "NIyp4JA0HvJb"
   },
   "source": [
    "# Тюнинг решающих деревьев. Практическая работа"
   ]
  },
  {
   "cell_type": "markdown",
   "metadata": {
    "id": "_ohvVK9tqXJI"
   },
   "source": [
    "## Цель практической работы\n",
    "\n",
    "Научиться снижать переобучение дерева и увеличивать его предсказательную способность на реальных данных."
   ]
  },
  {
   "cell_type": "markdown",
   "metadata": {
    "id": "pTiwLOIHqXRw"
   },
   "source": [
    "## Что нужно сделать\n",
    "\n",
    "- Загрузить данные и ознакомиться с ними.\n",
    "- Реализовать построение решающего дерева с помощью  библиотеки Scikit-learn.\n",
    "- Подобрать гиперпараметры дерева.\n",
    "- Поэкспериментировать со стрижкой (cost-complexity pruning) дерева."
   ]
  },
  {
   "cell_type": "markdown",
   "metadata": {
    "id": "fWl_mCkdqXUG"
   },
   "source": [
    "## Как выполнить задание\n",
    "- Обратите внимание, что задание не нужно сдавать на проверку\n",
    "- Выполните все пункты задания и проверьте себя с ответами ниже\n",
    "- Важно, чтобы модель получилась хорошего качества и не была переобучена.\n"
   ]
  },
  {
   "cell_type": "markdown",
   "metadata": {
    "id": "mQ04nzTSqXWw"
   },
   "source": [
    "Скачайте файл с заданием в материалах, откройте его через Jupyter Notebook и выполните задачи."
   ]
  },
  {
   "cell_type": "markdown",
   "metadata": {
    "id": "NkvSJDW6qhe-"
   },
   "source": [
    "Пусть у нас имеется некоторый набор данных `sales.csv` – данные о продажах квартир."
   ]
  },
  {
   "cell_type": "markdown",
   "metadata": {
    "id": "NlcYMEEG1bqD"
   },
   "source": [
    "- цена продажи (SalePrice) – зависимая переменная;\n",
    "- наземная жилая зона (GrLivArea);\n",
    "- общее качество (Overall Quality);\n",
    "- территория гаража (GarageArea);\n",
    "- условия сделки (SaleCondition)."
   ]
  },
  {
   "cell_type": "markdown",
   "metadata": {
    "id": "Fn4XZ1cgqm1N"
   },
   "source": [
    "Реализуйте построение модели решающего дерева на этих данных. Проверьте качество модели на обучающей и тестовой выборках с помощью R^2. Определите, что вы не переобучились."
   ]
  },
  {
   "cell_type": "markdown",
   "metadata": {
    "id": "svOtYfEuPbGH"
   },
   "source": [
    "## Загрузка и предобработка данных\n",
    "\n",
    "В модуле 5 вы уже работали с этим набором данных, решали задачу при помощи линейной регрессии.\n",
    "\n",
    "Повторим блок загрузки, предобработки и разделения данных на тренировочную и тестовую части из практики пятого модуля."
   ]
  },
  {
   "cell_type": "code",
   "execution_count": 1,
   "metadata": {
    "id": "HUhq3m7ZPbGI"
   },
   "outputs": [],
   "source": [
    "import pandas as pd\n",
    "import matplotlib.pyplot as plt\n",
    "import seaborn as sns\n",
    "import numpy as np\n",
    "import warnings\n",
    "warnings.filterwarnings('ignore')\n",
    "%matplotlib inline"
   ]
  },
  {
   "cell_type": "code",
   "execution_count": 2,
   "metadata": {
    "id": "uA_mTzU3PbGI"
   },
   "outputs": [],
   "source": [
    "data = pd.read_csv('sales.csv')"
   ]
  },
  {
   "cell_type": "code",
   "execution_count": 3,
   "metadata": {
    "colab": {
     "base_uri": "https://localhost:8080/",
     "height": 206
    },
    "id": "qS3t2MHzPbGJ",
    "outputId": "cb893a77-1629-4ef5-a0ee-a187eeed1e00"
   },
   "outputs": [
    {
     "data": {
      "text/html": [
       "<div>\n",
       "<style scoped>\n",
       "    .dataframe tbody tr th:only-of-type {\n",
       "        vertical-align: middle;\n",
       "    }\n",
       "\n",
       "    .dataframe tbody tr th {\n",
       "        vertical-align: top;\n",
       "    }\n",
       "\n",
       "    .dataframe thead th {\n",
       "        text-align: right;\n",
       "    }\n",
       "</style>\n",
       "<table border=\"1\" class=\"dataframe\">\n",
       "  <thead>\n",
       "    <tr style=\"text-align: right;\">\n",
       "      <th></th>\n",
       "      <th>SalePrice</th>\n",
       "      <th>GrLivArea</th>\n",
       "      <th>GarageArea</th>\n",
       "      <th>OverallQual</th>\n",
       "      <th>Street</th>\n",
       "      <th>SaleCondition</th>\n",
       "    </tr>\n",
       "  </thead>\n",
       "  <tbody>\n",
       "    <tr>\n",
       "      <th>0</th>\n",
       "      <td>208500</td>\n",
       "      <td>1710</td>\n",
       "      <td>548</td>\n",
       "      <td>7</td>\n",
       "      <td>Pave</td>\n",
       "      <td>Normal</td>\n",
       "    </tr>\n",
       "    <tr>\n",
       "      <th>1</th>\n",
       "      <td>181500</td>\n",
       "      <td>1262</td>\n",
       "      <td>460</td>\n",
       "      <td>6</td>\n",
       "      <td>Pave</td>\n",
       "      <td>Normal</td>\n",
       "    </tr>\n",
       "    <tr>\n",
       "      <th>2</th>\n",
       "      <td>223500</td>\n",
       "      <td>1786</td>\n",
       "      <td>608</td>\n",
       "      <td>7</td>\n",
       "      <td>Pave</td>\n",
       "      <td>Normal</td>\n",
       "    </tr>\n",
       "    <tr>\n",
       "      <th>3</th>\n",
       "      <td>140000</td>\n",
       "      <td>1717</td>\n",
       "      <td>642</td>\n",
       "      <td>7</td>\n",
       "      <td>Pave</td>\n",
       "      <td>Abnorml</td>\n",
       "    </tr>\n",
       "    <tr>\n",
       "      <th>4</th>\n",
       "      <td>250000</td>\n",
       "      <td>2198</td>\n",
       "      <td>836</td>\n",
       "      <td>8</td>\n",
       "      <td>Pave</td>\n",
       "      <td>Normal</td>\n",
       "    </tr>\n",
       "  </tbody>\n",
       "</table>\n",
       "</div>"
      ],
      "text/plain": [
       "   SalePrice  GrLivArea  GarageArea  OverallQual Street SaleCondition\n",
       "0     208500       1710         548            7   Pave        Normal\n",
       "1     181500       1262         460            6   Pave        Normal\n",
       "2     223500       1786         608            7   Pave        Normal\n",
       "3     140000       1717         642            7   Pave       Abnorml\n",
       "4     250000       2198         836            8   Pave        Normal"
      ]
     },
     "execution_count": 3,
     "metadata": {},
     "output_type": "execute_result"
    }
   ],
   "source": [
    "data.head()"
   ]
  },
  {
   "cell_type": "code",
   "execution_count": 4,
   "metadata": {
    "id": "huD-w0YgPbGK"
   },
   "outputs": [],
   "source": [
    "data['Street'] = pd.get_dummies(data['Street'], drop_first=True)\n",
    "SaleCondition = pd.get_dummies(data['SaleCondition'], drop_first=True)\n",
    "data = data.drop(['SaleCondition'], axis=1)\n",
    "data = pd.concat([data, SaleCondition], axis=1)"
   ]
  },
  {
   "cell_type": "code",
   "execution_count": 5,
   "metadata": {
    "id": "iQxNvpF3PbGK"
   },
   "outputs": [],
   "source": [
    "data['part_garage'] = data['GarageArea']/data['GrLivArea']"
   ]
  },
  {
   "cell_type": "code",
   "execution_count": 6,
   "metadata": {
    "id": "zatATk0UPbGK"
   },
   "outputs": [],
   "source": [
    "x = ['GrLivArea', 'GarageArea', 'OverallQual', 'Street', 'AdjLand', 'Alloca',\n",
    "       'Family', 'Normal', 'Partial', 'part_garage']\n",
    "y = ['SalePrice']"
   ]
  },
  {
   "cell_type": "code",
   "execution_count": 7,
   "metadata": {
    "id": "6wZmnhN_PbGK"
   },
   "outputs": [],
   "source": [
    "from sklearn.model_selection import train_test_split\n",
    "\n",
    "Xtrain, Xtest, ytrain, ytest = train_test_split(data[x], data[y], train_size=0.7, random_state=123) # random_state нужен для воспроизводимости результата"
   ]
  },
  {
   "cell_type": "markdown",
   "metadata": {
    "id": "3FiknUs7PbGK"
   },
   "source": [
    "Обучите решающее дерево с параметрами по умолчанию на тренировочных данных, затем оцените качество на тренировочных и тестовых данных.\n",
    "\n",
    "Везде далее качество – это значении метрики $R^2$.\n",
    "\n",
    "Сделайте выводы:\n",
    "*  хорошая ли получилась модель (по качеству на тесте)?\n",
    "*  переобучена ли модель?"
   ]
  },
  {
   "cell_type": "code",
   "execution_count": 8,
   "metadata": {
    "id": "xVbIexiiPbGL"
   },
   "outputs": [
    {
     "name": "stdout",
     "output_type": "stream",
     "text": [
      "train score: 0.9997875001371536\n",
      "test score: 0.6314305756242802\n"
     ]
    }
   ],
   "source": [
    "from sklearn.tree import DecisionTreeRegressor\n",
    "from sklearn.metrics import r2_score\n",
    "\n",
    "tree = DecisionTreeRegressor()\n",
    "tree.fit(Xtrain, ytrain)\n",
    "\n",
    "pred_train = tree.predict(Xtrain)\n",
    "pred_test = tree.predict(Xtest)\n",
    "\n",
    "print('train score:', r2_score(ytrain, pred_train))\n",
    "print('test score:', r2_score(ytest, pred_test))"
   ]
  },
  {
   "cell_type": "markdown",
   "metadata": {
    "id": "fXc3niR9PbGL"
   },
   "source": [
    "### Ваши выводы тут\n",
    "\n",
    "По качеству на тесте модель получилась недостаточно точной.\n",
    "Также качество по обучающей выборке значительно превышает результат по тестовой, что свидетельствует о переобученности модели."
   ]
  },
  {
   "cell_type": "markdown",
   "metadata": {
    "id": "4zDIYmGbPbGL"
   },
   "source": [
    "Теперь оцените качество модели (r2) на кросс-валидации с тремя фолдами.\n",
    "\n",
    "Для кросс-валидации используйте все обучающие данные (до разбиения на трейн и тест)."
   ]
  },
  {
   "cell_type": "code",
   "execution_count": 11,
   "metadata": {
    "id": "QRIF8VEBPbGM"
   },
   "outputs": [
    {
     "data": {
      "text/plain": [
       "0.6034318604542125"
      ]
     },
     "execution_count": 11,
     "metadata": {},
     "output_type": "execute_result"
    }
   ],
   "source": [
    "from sklearn.model_selection import cross_val_score\n",
    "\n",
    "cross_val_score(tree, data[x], data[y], scoring='r2', cv=3).mean()"
   ]
  },
  {
   "cell_type": "markdown",
   "metadata": {
    "id": "-zk0b_DcPbGM"
   },
   "source": [
    "Что вы можете сказать о качестве модели? Совпало ли среднее качество на кросс-валидацией со значением $R^2$ на тестовых данных? Почему?"
   ]
  },
  {
   "cell_type": "markdown",
   "metadata": {
    "id": "C8YKyXPnPbGM"
   },
   "source": [
    "### Ваши выводы тут\n",
    "\n",
    "Среднее качество почти совпадает с результатом на тестовых данных."
   ]
  },
  {
   "cell_type": "markdown",
   "metadata": {
    "id": "MB_0Xyd3PbGM"
   },
   "source": [
    "Давайте улучшать модель.\n",
    "\n",
    "Для начала подберите по кросс-валидации в цикле оптимальную глубину дерева:\n",
    "*   кросс-валидацию делайте только по тренировочным данным (cv=3, scoring='r2')\n",
    "*   глубину ищите в диапазоне от 1 до 20 включительно\n",
    "*   выведите на экран значение max_depth, для которого значение метрики на кросс-валидации максимально"
   ]
  },
  {
   "cell_type": "code",
   "execution_count": 12,
   "metadata": {
    "id": "U-ta8EcfPbGM"
   },
   "outputs": [
    {
     "name": "stdout",
     "output_type": "stream",
     "text": [
      "1 0.4730286732671081\n",
      "2 0.5848595301105214\n",
      "3 0.5704306628708652\n",
      "4 0.6003506490149615\n",
      "5 0.6085022267213066\n",
      "6 0.6168711205453311\n",
      "7 0.6020580557564191\n",
      "8 0.5896192230606735\n",
      "9 0.5929496366069847\n",
      "10 0.5451925360876676\n",
      "11 0.567309175575479\n",
      "12 0.5702469368158427\n",
      "13 0.5589200754520837\n",
      "14 0.555413921508237\n",
      "15 0.5260547222213194\n",
      "16 0.5330495004484354\n",
      "17 0.5455738622568173\n",
      "18 0.558892011062215\n",
      "19 0.543730867775642\n",
      "20 0.5470074084900628\n",
      "best depth: 6\n"
     ]
    }
   ],
   "source": [
    "max_score = 0\n",
    "best_depth = 0\n",
    "for depth in range(1, 21):\n",
    "    tree = DecisionTreeRegressor(max_depth=depth)\n",
    "    score = cross_val_score(tree, Xtrain, ytrain, scoring='r2', cv=3).mean()  \n",
    "    print(depth, score)\n",
    "    if score > max_score:\n",
    "        max_score = score\n",
    "        best_depth = depth\n",
    "\n",
    "print(\"best depth:\", best_depth)"
   ]
  },
  {
   "cell_type": "markdown",
   "metadata": {
    "id": "QpRMgwdPPbGN"
   },
   "source": [
    "Теперь для найденного значения max_depth обучите дерево на всех тренировочных данных, сделайте предсказание на трейне и на тесте и оцените значения метрики.\n",
    "\n",
    "Удалось ли:\n",
    "*  улучшить качество предсказания на тесте?\n",
    "*  снизить переобучение?"
   ]
  },
  {
   "cell_type": "code",
   "execution_count": 13,
   "metadata": {
    "id": "wiQJHkgFPbGN"
   },
   "outputs": [
    {
     "name": "stdout",
     "output_type": "stream",
     "text": [
      "train score: 0.8793304502214313\n",
      "test score: 0.7507343979736868\n"
     ]
    }
   ],
   "source": [
    "tree = DecisionTreeRegressor(max_depth=best_depth)\n",
    "tree.fit(Xtrain, ytrain)\n",
    "\n",
    "pred_train = tree.predict(Xtrain)\n",
    "pred_test = tree.predict(Xtest)\n",
    "\n",
    "print('train score:', r2_score(ytrain, pred_train))\n",
    "print('test score:', r2_score(ytest, pred_test))"
   ]
  },
  {
   "cell_type": "markdown",
   "metadata": {
    "id": "TXDXq9oUPbGN"
   },
   "source": [
    "### Ваши выводы тут\n",
    "\n",
    "Переобучение удалось снизить, качество на тесте возросло."
   ]
  },
  {
   "cell_type": "markdown",
   "metadata": {
    "id": "iT2-BKGVPbGO"
   },
   "source": [
    "Теперь для найденной оптимальной глубины дерева подберите значение min_samples_split в диапазоне от 1 до 15 с шагом 1. Также по кросс-валидации на тренировочных данных (как и при подборе max_depth)."
   ]
  },
  {
   "cell_type": "code",
   "execution_count": 19,
   "metadata": {
    "id": "fAotth14PbGO"
   },
   "outputs": [
    {
     "name": "stdout",
     "output_type": "stream",
     "text": [
      "1 nan\n",
      "2 0.6111316667447574\n",
      "3 0.6113672205149334\n",
      "4 0.6169718828749137\n",
      "5 0.6372583564714049\n",
      "6 0.6383305864913441\n",
      "7 0.631257732474256\n",
      "8 0.6395297299856778\n",
      "9 0.6366497818255764\n",
      "10 0.6662545420807814\n",
      "11 0.6573342712746711\n",
      "12 0.6453179218114801\n",
      "13 0.6435211068916656\n",
      "14 0.6433222973757847\n",
      "15 0.64397673704128\n",
      "best samples: 10\n"
     ]
    }
   ],
   "source": [
    "max_score = 0\n",
    "best_samples = 0\n",
    "for samples in range(1, 16):\n",
    "    tree = DecisionTreeRegressor(max_depth=best_depth, min_samples_split=samples)\n",
    "    score = cross_val_score(tree, Xtrain, ytrain, scoring='r2', cv=3).mean()  \n",
    "    print(samples, score)\n",
    "    if score > max_score:\n",
    "        max_score = score\n",
    "        best_samples = samples\n",
    "\n",
    "print(\"best samples:\", best_samples)"
   ]
  },
  {
   "cell_type": "markdown",
   "metadata": {
    "id": "M0pxonvWPbGO"
   },
   "source": [
    "Теперь для найденного значения max_depth и найденного min_samples_split обучите дерево на всех тренировочных данных, сделайте предсказание на трейне и на тесте и оцените значения метрики.\n",
    "\n",
    "Удалось ли:\n",
    "*  ещё улучшить качество предсказания на тесте?\n",
    "*  ещё снизить переобучение?"
   ]
  },
  {
   "cell_type": "code",
   "execution_count": 20,
   "metadata": {
    "id": "-d1OCzUoPbGO"
   },
   "outputs": [
    {
     "name": "stdout",
     "output_type": "stream",
     "text": [
      "train score: 0.874009469665285\n",
      "test score: 0.7622744406802879\n"
     ]
    }
   ],
   "source": [
    "tree = DecisionTreeRegressor(max_depth=best_depth, min_samples_split=best_samples)\n",
    "tree.fit(Xtrain, ytrain)\n",
    "\n",
    "pred_train = tree.predict(Xtrain)\n",
    "pred_test = tree.predict(Xtest)\n",
    "\n",
    "print('train score:', r2_score(ytrain, pred_train))\n",
    "print('test score:', r2_score(ytest, pred_test))"
   ]
  },
  {
   "cell_type": "markdown",
   "metadata": {
    "id": "Xg32f6pTPbGP"
   },
   "source": [
    "### Ваши выводы тут"
   ]
  },
  {
   "cell_type": "markdown",
   "metadata": {
    "id": "3vLXeLSbPbGP"
   },
   "source": [
    "Сейчас вы подбирали max_depth и min_samples_split последовательно, но, возможно, при одновременном подборе этих гиперпараметров оптимальный набор значений этих гиперпараметров получится другим.\n",
    "\n",
    "При помощи вложенного цикла по той же схеме с кросс-валидацией на тренировочных данных подберите пару значений (max_depth, min_samples_split), для которых достигается наилучшее среднее значение метрики на кросс-валидации.\n",
    "\n",
    "Выведите на экран найденные значения гиперпараметров."
   ]
  },
  {
   "cell_type": "code",
   "execution_count": 24,
   "metadata": {
    "id": "RXuct0r6PbGP"
   },
   "outputs": [
    {
     "name": "stdout",
     "output_type": "stream",
     "text": [
      "depth: 1 samples: 2 0.4730286732671081\n",
      "depth: 1 samples: 3 0.4730286732671081\n",
      "depth: 1 samples: 4 0.4730286732671081\n",
      "depth: 1 samples: 5 0.4730286732671081\n",
      "depth: 1 samples: 6 0.4730286732671081\n",
      "depth: 1 samples: 7 0.4730286732671081\n",
      "depth: 1 samples: 8 0.4730286732671081\n",
      "depth: 1 samples: 9 0.4730286732671081\n",
      "depth: 1 samples: 10 0.4730286732671081\n",
      "depth: 1 samples: 11 0.4730286732671081\n",
      "depth: 1 samples: 12 0.4730286732671081\n",
      "depth: 1 samples: 13 0.4730286732671081\n",
      "depth: 1 samples: 14 0.4730286732671081\n",
      "depth: 1 samples: 15 0.4730286732671081\n",
      "depth: 2 samples: 2 0.5848595301105214\n",
      "depth: 2 samples: 3 0.5848595301105214\n",
      "depth: 2 samples: 4 0.5848595301105214\n",
      "depth: 2 samples: 5 0.5848595301105214\n",
      "depth: 2 samples: 6 0.5848595301105214\n",
      "depth: 2 samples: 7 0.5848595301105214\n",
      "depth: 2 samples: 8 0.5848595301105214\n",
      "depth: 2 samples: 9 0.5848595301105214\n",
      "depth: 2 samples: 10 0.5848595301105214\n",
      "depth: 2 samples: 11 0.5848595301105214\n",
      "depth: 2 samples: 12 0.5848595301105214\n",
      "depth: 2 samples: 13 0.5848595301105214\n",
      "depth: 2 samples: 14 0.5848595301105214\n",
      "depth: 2 samples: 15 0.5848595301105214\n",
      "depth: 3 samples: 2 0.5704306628708652\n",
      "depth: 3 samples: 3 0.5704306628708652\n",
      "depth: 3 samples: 4 0.5704306628708652\n",
      "depth: 3 samples: 5 0.5704306628708652\n",
      "depth: 3 samples: 6 0.5704306628708652\n",
      "depth: 3 samples: 7 0.583467315973128\n",
      "depth: 3 samples: 8 0.583467315973128\n",
      "depth: 3 samples: 9 0.583467315973128\n",
      "depth: 3 samples: 10 0.583467315973128\n",
      "depth: 3 samples: 11 0.583467315973128\n",
      "depth: 3 samples: 12 0.583467315973128\n",
      "depth: 3 samples: 13 0.583467315973128\n",
      "depth: 3 samples: 14 0.583467315973128\n",
      "depth: 3 samples: 15 0.583467315973128\n",
      "depth: 4 samples: 2 0.5988254812315529\n",
      "depth: 4 samples: 3 0.5964110743314232\n",
      "depth: 4 samples: 4 0.5948859065480145\n",
      "depth: 4 samples: 5 0.6148783949503803\n",
      "depth: 4 samples: 6 0.6164035627337889\n",
      "depth: 4 samples: 7 0.6279150480526431\n",
      "depth: 4 samples: 8 0.6279150480526431\n",
      "depth: 4 samples: 9 0.6294402158360518\n",
      "depth: 4 samples: 10 0.6294402158360518\n",
      "depth: 4 samples: 11 0.6279150480526431\n",
      "depth: 4 samples: 12 0.6175886010334194\n",
      "depth: 4 samples: 13 0.6175886010334194\n",
      "depth: 4 samples: 14 0.6175886010334194\n",
      "depth: 4 samples: 15 0.6175886010334194\n",
      "depth: 5 samples: 2 0.6147110660936779\n",
      "depth: 5 samples: 3 0.6122896197880969\n",
      "depth: 5 samples: 4 0.6118677684843375\n",
      "depth: 5 samples: 5 0.6248551438821425\n",
      "depth: 5 samples: 6 0.6403138200903736\n",
      "depth: 5 samples: 7 0.6533504731926364\n",
      "depth: 5 samples: 8 0.6604857994169623\n",
      "depth: 5 samples: 9 0.6385917954273723\n",
      "depth: 5 samples: 10 0.644495153468715\n",
      "depth: 5 samples: 11 0.6520677133901034\n",
      "depth: 5 samples: 12 0.6387905893972615\n",
      "depth: 5 samples: 13 0.636993774477447\n",
      "depth: 5 samples: 14 0.6376701057183597\n",
      "depth: 5 samples: 15 0.6370075550282642\n",
      "depth: 6 samples: 2 0.6046444264457574\n",
      "depth: 6 samples: 3 0.6062793529193277\n",
      "depth: 6 samples: 4 0.6016604454682625\n",
      "depth: 6 samples: 5 0.6407423944549436\n",
      "depth: 6 samples: 6 0.6276281595207207\n",
      "depth: 6 samples: 7 0.6396636772271042\n",
      "depth: 6 samples: 8 0.6341945431114976\n",
      "depth: 6 samples: 9 0.6516356502776016\n",
      "depth: 6 samples: 10 0.6513817967089665\n",
      "depth: 6 samples: 11 0.6583180978323097\n",
      "depth: 6 samples: 12 0.6462278708776915\n",
      "depth: 6 samples: 13 0.6435211068916656\n",
      "depth: 6 samples: 14 0.6433222973757847\n",
      "depth: 6 samples: 15 0.6442322464419963\n",
      "depth: 7 samples: 2 0.6067416996377751\n",
      "depth: 7 samples: 3 0.6057998008977781\n",
      "depth: 7 samples: 4 0.6082230452086245\n",
      "depth: 7 samples: 5 0.6312993274977396\n",
      "depth: 7 samples: 6 0.6206521113170841\n",
      "depth: 7 samples: 7 0.6285230761187101\n",
      "depth: 7 samples: 8 0.6435044823986836\n",
      "depth: 7 samples: 9 0.6568806634610851\n",
      "depth: 7 samples: 10 0.6578194560831775\n",
      "depth: 7 samples: 11 0.6579532380320123\n",
      "depth: 7 samples: 12 0.6444561949584969\n",
      "depth: 7 samples: 13 0.6427521075605944\n",
      "depth: 7 samples: 14 0.6440673351287926\n",
      "depth: 7 samples: 15 0.6443998976573736\n",
      "depth: 8 samples: 2 0.5933773229622797\n",
      "depth: 8 samples: 3 0.5791993664606282\n",
      "depth: 8 samples: 4 0.5994442182685762\n",
      "depth: 8 samples: 5 0.6208110317238825\n",
      "depth: 8 samples: 6 0.6184295974447165\n",
      "depth: 8 samples: 7 0.6249801559446974\n",
      "depth: 8 samples: 8 0.6414403549861605\n",
      "depth: 8 samples: 9 0.6327168575351255\n",
      "depth: 8 samples: 10 0.6418589514238854\n",
      "depth: 8 samples: 11 0.655201402700106\n",
      "depth: 8 samples: 12 0.643129800331843\n",
      "depth: 8 samples: 13 0.6382841316422522\n",
      "depth: 8 samples: 14 0.6407837918213811\n",
      "depth: 8 samples: 15 0.6393081585677515\n",
      "depth: 9 samples: 2 0.5821490561231887\n",
      "depth: 9 samples: 3 0.5873080044837496\n",
      "depth: 9 samples: 4 0.577851027984108\n",
      "depth: 9 samples: 5 0.6140591991560332\n",
      "depth: 9 samples: 6 0.62158137833839\n",
      "depth: 9 samples: 7 0.6396597205392967\n",
      "depth: 9 samples: 8 0.6214551350966041\n",
      "depth: 9 samples: 9 0.6472151035934474\n",
      "depth: 9 samples: 10 0.6354147311195864\n",
      "depth: 9 samples: 11 0.6485214382852843\n",
      "depth: 9 samples: 12 0.6365741370824466\n",
      "depth: 9 samples: 13 0.6346240216670068\n",
      "depth: 9 samples: 14 0.6356400496390835\n",
      "depth: 9 samples: 15 0.6375977963897634\n",
      "depth: 10 samples: 2 0.5741175213852487\n",
      "depth: 10 samples: 3 0.5767968357634823\n",
      "depth: 10 samples: 4 0.5736353656115822\n",
      "depth: 10 samples: 5 0.5854096009217077\n",
      "depth: 10 samples: 6 0.5956511310751066\n",
      "depth: 10 samples: 7 0.6318162379617416\n",
      "depth: 10 samples: 8 0.6334492873570966\n",
      "depth: 10 samples: 9 0.6205365583008242\n",
      "depth: 10 samples: 10 0.630017539828856\n",
      "depth: 10 samples: 11 0.6480967447664815\n",
      "depth: 10 samples: 12 0.6359912126024645\n",
      "depth: 10 samples: 13 0.6308653253384265\n",
      "depth: 10 samples: 14 0.6358097535416906\n",
      "depth: 10 samples: 15 0.6357332301721997\n",
      "depth: 11 samples: 2 0.5630839341274735\n",
      "depth: 11 samples: 3 0.5666795467784406\n",
      "depth: 11 samples: 4 0.5814170259541845\n",
      "depth: 11 samples: 5 0.593996898322148\n",
      "depth: 11 samples: 6 0.5942904259137266\n",
      "depth: 11 samples: 7 0.6263417309154234\n",
      "depth: 11 samples: 8 0.6118524254690898\n",
      "depth: 11 samples: 9 0.6213798751332243\n",
      "depth: 11 samples: 10 0.6250083869827384\n",
      "depth: 11 samples: 11 0.6417723901594986\n",
      "depth: 11 samples: 12 0.6311682165105474\n",
      "depth: 11 samples: 13 0.6292235420310867\n",
      "depth: 11 samples: 14 0.6296671818842691\n",
      "depth: 11 samples: 15 0.6314780745564873\n",
      "depth: 12 samples: 2 0.5489435985468091\n",
      "depth: 12 samples: 3 0.5523760600072435\n",
      "depth: 12 samples: 4 0.5576352114644673\n",
      "depth: 12 samples: 5 0.6079880578911079\n",
      "depth: 12 samples: 6 0.5892607086694556\n",
      "depth: 12 samples: 7 0.6106436342029017\n",
      "depth: 12 samples: 8 0.6092313940253158\n",
      "depth: 12 samples: 9 0.628187044449426\n",
      "depth: 12 samples: 10 0.6243385181847073\n",
      "depth: 12 samples: 11 0.6403267733486832\n",
      "depth: 12 samples: 12 0.6286886594311548\n",
      "depth: 12 samples: 13 0.6248079858158716\n",
      "depth: 12 samples: 14 0.6292551680515742\n",
      "depth: 12 samples: 15 0.630031014859843\n",
      "depth: 13 samples: 2 0.5566573280139862\n",
      "depth: 13 samples: 3 0.5674643194488648\n",
      "depth: 13 samples: 4 0.5642095355474376\n",
      "depth: 13 samples: 5 0.5895641325521748\n",
      "depth: 13 samples: 6 0.5900030685655673\n",
      "depth: 13 samples: 7 0.6183791234133749\n",
      "depth: 13 samples: 8 0.6030892994203346\n",
      "depth: 13 samples: 9 0.6324022059250552\n",
      "depth: 13 samples: 10 0.6434054987827762\n",
      "depth: 13 samples: 11 0.6387404031244893\n",
      "depth: 13 samples: 12 0.6261396684404078\n",
      "depth: 13 samples: 13 0.625288529312766\n",
      "depth: 13 samples: 14 0.6267337743357341\n",
      "depth: 13 samples: 15 0.6283625150346736\n",
      "depth: 14 samples: 2 0.5484849210111499\n",
      "depth: 14 samples: 3 0.5648622913706117\n",
      "depth: 14 samples: 4 0.5823975592987897\n",
      "depth: 14 samples: 5 0.592663534109824\n",
      "depth: 14 samples: 6 0.5889766537743926\n",
      "depth: 14 samples: 7 0.6171315905560019\n",
      "depth: 14 samples: 8 0.6079000875036216\n",
      "depth: 14 samples: 9 0.6160887456001547\n",
      "depth: 14 samples: 10 0.6410988783569029\n",
      "depth: 14 samples: 11 0.6400240870709203\n",
      "depth: 14 samples: 12 0.6269094015644586\n",
      "depth: 14 samples: 13 0.6249654035885532\n",
      "depth: 14 samples: 14 0.6282539448142629\n",
      "depth: 14 samples: 15 0.6292290064165361\n",
      "depth: 15 samples: 2 0.5527512559367765\n",
      "depth: 15 samples: 3 0.533781016878759\n",
      "depth: 15 samples: 4 0.566924776971469\n",
      "depth: 15 samples: 5 0.5903943129118582\n",
      "depth: 15 samples: 6 0.5932103897512213\n",
      "depth: 15 samples: 7 0.6180039010286634\n",
      "depth: 15 samples: 8 0.6004810831675669\n",
      "depth: 15 samples: 9 0.62912747329388\n",
      "depth: 15 samples: 10 0.6322560455238792\n",
      "depth: 15 samples: 11 0.6394762792379004\n",
      "depth: 15 samples: 12 0.6289842997738403\n"
     ]
    },
    {
     "name": "stdout",
     "output_type": "stream",
     "text": [
      "depth: 15 samples: 13 0.6265091909164249\n",
      "depth: 15 samples: 14 0.6268956568463231\n",
      "depth: 15 samples: 15 0.6313842413012559\n",
      "depth: 16 samples: 2 0.5562309710918037\n",
      "depth: 16 samples: 3 0.5425139832874176\n",
      "depth: 16 samples: 4 0.5720928827010411\n",
      "depth: 16 samples: 5 0.5773304637922514\n",
      "depth: 16 samples: 6 0.5790833251814402\n",
      "depth: 16 samples: 7 0.6126544771694472\n",
      "depth: 16 samples: 8 0.6250189815243222\n",
      "depth: 16 samples: 9 0.6179444748158718\n",
      "depth: 16 samples: 10 0.6313352181370995\n",
      "depth: 16 samples: 11 0.6393178928487135\n",
      "depth: 16 samples: 12 0.6274310911518725\n",
      "depth: 16 samples: 13 0.6245319637192367\n",
      "depth: 16 samples: 14 0.6281670111874036\n",
      "depth: 16 samples: 15 0.6297969209353337\n",
      "depth: 17 samples: 2 0.5442597322429149\n",
      "depth: 17 samples: 3 0.5716143080541206\n",
      "depth: 17 samples: 4 0.5487883373597372\n",
      "depth: 17 samples: 5 0.5930114735895143\n",
      "depth: 17 samples: 6 0.5991165185062782\n",
      "depth: 17 samples: 7 0.601196526626658\n",
      "depth: 17 samples: 8 0.6167469265509081\n",
      "depth: 17 samples: 9 0.6133778148731502\n",
      "depth: 17 samples: 10 0.6221893548186163\n",
      "depth: 17 samples: 11 0.6402627889003843\n",
      "depth: 17 samples: 12 0.6277419950097606\n",
      "depth: 17 samples: 13 0.6264822226923898\n",
      "depth: 17 samples: 14 0.6271630451994253\n",
      "depth: 17 samples: 15 0.6307190417880443\n",
      "depth: 18 samples: 2 0.5379341422976167\n",
      "depth: 18 samples: 3 0.5500999837719216\n",
      "depth: 18 samples: 4 0.5555416123714266\n",
      "depth: 18 samples: 5 0.583989961226275\n",
      "depth: 18 samples: 6 0.604093333629678\n",
      "depth: 18 samples: 7 0.6190337002948644\n",
      "depth: 18 samples: 8 0.6017680313401548\n",
      "depth: 18 samples: 9 0.6283412603711406\n",
      "depth: 18 samples: 10 0.6425928140564866\n",
      "depth: 18 samples: 11 0.639652493660917\n",
      "depth: 18 samples: 12 0.6283308225058364\n",
      "depth: 18 samples: 13 0.6237131503516727\n",
      "depth: 18 samples: 14 0.6275271404282944\n",
      "depth: 18 samples: 15 0.6310487241684207\n",
      "depth: 19 samples: 2 0.5590769207994383\n",
      "depth: 19 samples: 3 0.5466247978850995\n",
      "depth: 19 samples: 4 0.5659802299949739\n",
      "depth: 19 samples: 5 0.5948732495284969\n",
      "depth: 19 samples: 6 0.6084374035131045\n",
      "depth: 19 samples: 7 0.6102350033970336\n",
      "depth: 19 samples: 8 0.6005035578466104\n",
      "depth: 19 samples: 9 0.6187881585293166\n",
      "depth: 19 samples: 10 0.6388785366303246\n",
      "depth: 19 samples: 11 0.638637356094981\n",
      "depth: 19 samples: 12 0.6281174228115917\n",
      "depth: 19 samples: 13 0.6252627080987846\n",
      "depth: 19 samples: 14 0.6286863663897809\n",
      "depth: 19 samples: 15 0.628255492447079\n",
      "depth: 20 samples: 2 0.549652441453506\n",
      "depth: 20 samples: 3 0.5333487343198753\n",
      "depth: 20 samples: 4 0.5672344554355798\n",
      "depth: 20 samples: 5 0.5843802585531217\n",
      "depth: 20 samples: 6 0.5861173154334159\n",
      "depth: 20 samples: 7 0.6103931607918079\n",
      "depth: 20 samples: 8 0.6248505896851425\n",
      "depth: 20 samples: 9 0.6331349625735319\n",
      "depth: 20 samples: 10 0.6431591303961163\n",
      "depth: 20 samples: 11 0.6418523959787131\n",
      "depth: 20 samples: 12 0.6292551878698558\n",
      "depth: 20 samples: 13 0.626314492667611\n",
      "depth: 20 samples: 14 0.6280600844532644\n",
      "depth: 20 samples: 15 0.6301161124169636\n",
      "best depth: 5\n",
      "best samples: 8\n"
     ]
    }
   ],
   "source": [
    "max_score = 0\n",
    "best_depth = 0\n",
    "best_samples = 0\n",
    "for depth in range(1, 21):\n",
    "    for samples in range(2, 16):\n",
    "        tree = DecisionTreeRegressor(max_depth=depth, min_samples_split=samples)\n",
    "        score = cross_val_score(tree, Xtrain, ytrain, scoring='r2', cv=3).mean()  \n",
    "        print('depth:', depth, 'samples:', samples, score)\n",
    "        if score > max_score:\n",
    "            max_score = score\n",
    "            best_samples = samples\n",
    "            best_depth = depth\n",
    "\n",
    "print(\"best depth:\", best_depth)\n",
    "print(\"best samples:\", best_samples)"
   ]
  },
  {
   "cell_type": "markdown",
   "metadata": {
    "id": "-I497OyVPbGP"
   },
   "source": [
    "Теперь для найденного значения max_depth и найденного min_samples_split обучите дерево на всех тренировочных данных, сделайте предсказание на трейне и на тесте и оцените значения метрики.\n",
    "\n",
    "*  Лучше ли подбирать гиперпараметры одновременно? Что можно сказать о качестве и переобученности алгоритма?"
   ]
  },
  {
   "cell_type": "code",
   "execution_count": 25,
   "metadata": {
    "id": "IgMUDLHjPbGP"
   },
   "outputs": [
    {
     "name": "stdout",
     "output_type": "stream",
     "text": [
      "train score: 0.8304914297420238\n",
      "test score: 0.7811238056960585\n"
     ]
    }
   ],
   "source": [
    "tree = DecisionTreeRegressor(max_depth=best_depth, min_samples_split=best_samples)\n",
    "tree.fit(Xtrain, ytrain)\n",
    "\n",
    "pred_train = tree.predict(Xtrain)\n",
    "pred_test = tree.predict(Xtest)\n",
    "\n",
    "print('train score:', r2_score(ytrain, pred_train))\n",
    "print('test score:', r2_score(ytest, pred_test))"
   ]
  },
  {
   "cell_type": "markdown",
   "metadata": {
    "id": "ydp7Rt5zPbGQ"
   },
   "source": [
    "### Ваши выводы тут\n",
    "\n",
    "При одновременном подборе гиперпараметров модель стала ещё менее переобучена."
   ]
  },
  {
   "cell_type": "markdown",
   "metadata": {
    "id": "tnDUMH41PbGQ"
   },
   "source": [
    "А теперь попробуйте снизить переобучение не за счёт подбора различных гиперпараметров, ограничивающих структуру дерева, а за счёт стрижки.\n",
    "\n",
    "По аналогии с тем, как было сделано в уроке про стрижку найдите список возможных значений $\\alpha$ для стрижки, вычисляя их по тренировочным данным (нужна функция cost_complexity_pruning_path)."
   ]
  },
  {
   "cell_type": "code",
   "execution_count": 31,
   "metadata": {
    "id": "sA188Us7PbGQ"
   },
   "outputs": [],
   "source": [
    "tree = DecisionTreeRegressor()\n",
    "path = tree.cost_complexity_pruning_path(Xtrain, ytrain)\n",
    "alphas = path['ccp_alphas']"
   ]
  },
  {
   "cell_type": "markdown",
   "metadata": {
    "id": "tmbrc3hdPbGQ"
   },
   "source": [
    "Следуя ноутбуку из того же скринкаста про стрижку, для каждого из найденных значений $\\alpha$ обучите решающее дерево на тренировочных данных, сделайте предсказания на трейне и тесте и вычислите метрику. \n",
    "\n",
    "Постройте графики ошибки на трейне и тесте в зависимости от значения $\\alpha$, оба графика на одной координатной плоскости.\n",
    "\n",
    "Также вычислите значение $\\alpha$, для которого качество на тесте максимально. Выведите его на экран."
   ]
  },
  {
   "cell_type": "code",
   "execution_count": 37,
   "metadata": {
    "id": "6YFs98bFPbGQ"
   },
   "outputs": [
    {
     "name": "stdout",
     "output_type": "stream",
     "text": [
      "best score: 0.8007272709379292\n",
      "best alpha: 16641136.63749563\n"
     ]
    }
   ],
   "source": [
    "r2_train = []\n",
    "r2_test = []\n",
    "best_score = 0\n",
    "best_alpha = alphas[0]\n",
    "\n",
    "for alpha in alphas:\n",
    "    tree = DecisionTreeRegressor(ccp_alpha = alpha)\n",
    "    tree.fit(Xtrain, ytrain)\n",
    "\n",
    "    pred_train = tree.predict(Xtrain)\n",
    "    pred_test = tree.predict(Xtest)\n",
    "    \n",
    "    train_score = r2_score(ytrain, pred_train)\n",
    "    test_score = r2_score(ytest, pred_test)\n",
    "    \n",
    "    r2_train.append(train_score)\n",
    "    r2_test.append(test_score)    \n",
    "    \n",
    "    if test_score > best_score:\n",
    "        best_score = test_score\n",
    "        best_alpha = alpha\n",
    "        \n",
    "        \n",
    "print('best score:', best_score)\n",
    "print('best alpha:', best_alpha)"
   ]
  },
  {
   "cell_type": "code",
   "execution_count": 40,
   "metadata": {},
   "outputs": [
    {
     "data": {
      "text/plain": [
       "[<matplotlib.lines.Line2D at 0x232cd0fc430>]"
      ]
     },
     "execution_count": 40,
     "metadata": {},
     "output_type": "execute_result"
    },
    {
     "data": {
      "image/png": "[encoded data removed]",
      "text/plain": [
       "<Figure size 1008x504 with 1 Axes>"
      ]
     },
     "metadata": {},
     "output_type": "display_data"
    }
   ],
   "source": [
    "plt.figure(figsize=(14,7))\n",
    "plt.plot(alphas, r2_train)\n",
    "plt.plot(alphas, r2_test)"
   ]
  },
  {
   "cell_type": "markdown",
   "metadata": {
    "id": "hjojS0A3PbGR"
   },
   "source": [
    "Для найденного значения $\\alpha$ обучите дерево с параметром ccp_alpha равным $\\alpha$ на тренировочных данных, сделайте предсказание на трейне и тесте и оцените качество предсказания на новых данных и переобучение модели.\n",
    "\n",
    "Какая модель в итоге получилась лучше: с ограничением max_depth и min_samples_split или при помощи стрижки?"
   ]
  },
  {
   "cell_type": "code",
   "execution_count": 41,
   "metadata": {
    "id": "7VOjKzQxPbGR"
   },
   "outputs": [
    {
     "name": "stdout",
     "output_type": "stream",
     "text": [
      "train score: 0.8556259974026101\n",
      "test score: 0.794217022920247\n"
     ]
    }
   ],
   "source": [
    "tree = DecisionTreeRegressor(ccp_alpha = best_alpha)\n",
    "tree.fit(Xtrain, ytrain)\n",
    "\n",
    "pred_train = tree.predict(Xtrain)\n",
    "pred_test = tree.predict(Xtest)\n",
    "\n",
    "print('train score:', r2_score(ytrain, pred_train))\n",
    "print('test score:', r2_score(ytest, pred_test))"
   ]
  },
  {
   "cell_type": "markdown",
   "metadata": {
    "id": "GZCJNfIiPbGR"
   },
   "source": [
    "### Ваши выводы тут"
   ]
  },
  {
   "cell_type": "markdown",
   "metadata": {
    "id": "e6jsvwpOPaZE"
   },
   "source": [
    "|"
   ]
  },
  {
   "cell_type": "markdown",
   "metadata": {
    "id": "JrSB8ytHPdmU"
   },
   "source": [
    "|"
   ]
  },
  {
   "cell_type": "markdown",
   "metadata": {
    "id": "TMdq7W_TPfBU"
   },
   "source": [
    "|"
   ]
  },
  {
   "cell_type": "markdown",
   "metadata": {
    "id": "ofiYLKLUPf49"
   },
   "source": [
    "|"
   ]
  },
  {
   "cell_type": "markdown",
   "metadata": {
    "id": "2TXOLduOPggJ"
   },
   "source": [
    "|"
   ]
  },
  {
   "cell_type": "markdown",
   "metadata": {
    "id": "i1n39NoJ1Y8W"
   },
   "source": [
    "## Ответы для самопроверки"
   ]
  },
  {
   "cell_type": "markdown",
   "metadata": {
    "id": "nT-wKoPuIMdh"
   },
   "source": [
    "Обучите решающее дерево с параметрами по умолчанию на тренировочных данных, затем оцените качество на тренировочных и тестовых данных.\n",
    "\n",
    "Везде далее качество – это значении метрики $R^2$.\n",
    "\n",
    "Сделайте выводы:\n",
    "*  хорошая ли получилась модель (по качеству на тесте)?\n",
    "*  переобучена ли модель?"
   ]
  },
  {
   "cell_type": "code",
   "execution_count": null,
   "metadata": {
    "id": "6Eo9R--rFTut"
   },
   "outputs": [],
   "source": [
    "from sklearn.tree import DecisionTreeRegressor\n",
    "\n",
    "tree = DecisionTreeRegressor()\n",
    "\n",
    "tree.fit(Xtrain, ytrain)\n",
    "\n",
    "pred_train = tree.predict(Xtrain)\n",
    "pred_test = tree.predict(Xtest)"
   ]
  },
  {
   "cell_type": "code",
   "execution_count": null,
   "metadata": {
    "colab": {
     "base_uri": "https://localhost:8080/"
    },
    "id": "rjiOaONCIX7J",
    "outputId": "77e04751-df3f-4e08-f28b-1304c5e32d55"
   },
   "outputs": [
    {
     "data": {
      "text/plain": [
       "(0.9997875001371536, 0.621767874481379)"
      ]
     },
     "execution_count": 29,
     "metadata": {},
     "output_type": "execute_result"
    }
   ],
   "source": [
    "from sklearn.metrics import r2_score\n",
    "\n",
    "r2_score(ytrain, pred_train), r2_score(ytest, pred_test)"
   ]
  },
  {
   "cell_type": "markdown",
   "metadata": {
    "id": "_oxC0EisIqCP"
   },
   "source": [
    "Дерево получилось сильно переобученным. Качество предсказания на новых данных невысокое."
   ]
  },
  {
   "cell_type": "markdown",
   "metadata": {
    "id": "EyzglRYwIux_"
   },
   "source": [
    "Теперь оцените качество модели (r2) на кросс-валидации с тремя фолдами.\n",
    "\n",
    "Для кросс-валидации используйте все обучающие данные (до разбиения на трейн и тест)."
   ]
  },
  {
   "cell_type": "code",
   "execution_count": null,
   "metadata": {
    "colab": {
     "base_uri": "https://localhost:8080/"
    },
    "id": "KFOm2EFhIbWB",
    "outputId": "74482ad7-d054-475f-ee87-1dbb0a22a330"
   },
   "outputs": [
    {
     "data": {
      "text/plain": [
       "0.5766292377175918"
      ]
     },
     "execution_count": 30,
     "metadata": {},
     "output_type": "execute_result"
    }
   ],
   "source": [
    "from sklearn.model_selection import cross_val_score\n",
    "\n",
    "cross_val_score(tree, data[x], data[y], cv=3, scoring='r2').mean()"
   ]
  },
  {
   "cell_type": "markdown",
   "metadata": {
    "id": "XyZ-cCbdJECy"
   },
   "source": [
    "Что вы можете сказать о качестве модели? Совпало ли среднее качество на кросс-валидацией со значением $R^2$ на тестовых данных? Почему?"
   ]
  },
  {
   "cell_type": "markdown",
   "metadata": {
    "id": "uD1oL6xSJMeD"
   },
   "source": [
    "По кросс-валидации качество отличается от скора на тесте в силу того, что модель сильно привязана к разбиению на трейн-тест. Лучше оценивать среднее качество при нескольких разбиениях, то есть по кросс-валидации."
   ]
  },
  {
   "cell_type": "markdown",
   "metadata": {
    "id": "wLaIuACGJQdf"
   },
   "source": [
    "Давайте улучшать модель.\n",
    "\n",
    "Для начала по кросс-валидации в цикле подберите оптимальную глубину дерева:\n",
    "*   кросс-валидацию делайте только по тренировочным данным (cv=3, scoring='r2');\n",
    "*   глубину ищите в диапазоне от 1 до 20 включительно;\n",
    "*   выведите на экран значение max_depth, для которого значение метрики на кросс-валидации максимально."
   ]
  },
  {
   "cell_type": "code",
   "execution_count": null,
   "metadata": {
    "colab": {
     "base_uri": "https://localhost:8080/"
    },
    "id": "nOnHM1ZdJO5w",
    "outputId": "8de38784-11df-4d2d-a727-8bf11cd0fe7c"
   },
   "outputs": [
    {
     "name": "stdout",
     "output_type": "stream",
     "text": [
      "1 0.4730286732671081\n",
      "2 0.5848595301105214\n",
      "3 0.5704306628708652\n",
      "4 0.5988254812315529\n",
      "5 0.613141168470157\n",
      "6 0.6142723013418843\n",
      "7 0.5945088256234881\n",
      "8 0.594931027780477\n",
      "9 0.5962672634579836\n",
      "10 0.5811833340079992\n",
      "11 0.5492549954831768\n",
      "12 0.5416982403574959\n",
      "13 0.5360269331294188\n",
      "14 0.5522864929770348\n",
      "15 0.5413494374004723\n",
      "16 0.5600645407892677\n",
      "17 0.5497188578011336\n",
      "18 0.5575258861753952\n",
      "19 0.5415662488177513\n",
      "20 0.5349656580181782\n",
      "6\n"
     ]
    }
   ],
   "source": [
    "max_score = -1\n",
    "depth = -1\n",
    "\n",
    "for d in np.arange(1,21):\n",
    "    tree = DecisionTreeRegressor(max_depth = d)\n",
    "\n",
    "    score = cross_val_score(tree, Xtrain, ytrain, cv=3, scoring='r2').mean()\n",
    "    print(d, score)\n",
    "\n",
    "    if score > max_score:\n",
    "        max_score = score\n",
    "        depth = d\n",
    "\n",
    "print(depth)"
   ]
  },
  {
   "cell_type": "markdown",
   "metadata": {
    "id": "yu5Twp5CKjeZ"
   },
   "source": [
    "Теперь для найденного значения max_depth обучите дерево на всех тренировочных данных, сделайте предсказание на трейне и на тесте и оцените значения метрики.\n",
    "\n",
    "Удалось ли:\n",
    "*  улучшить качество предсказания на тесте?\n",
    "*  снизить переобучение?"
   ]
  },
  {
   "cell_type": "code",
   "execution_count": null,
   "metadata": {
    "id": "06L4MR7xJDAl"
   },
   "outputs": [],
   "source": [
    "tree2 = DecisionTreeRegressor(max_depth = depth)\n",
    "\n",
    "tree2.fit(Xtrain, ytrain)\n",
    "\n",
    "pred_train = tree2.predict(Xtrain)\n",
    "pred_test = tree2.predict(Xtest)"
   ]
  },
  {
   "cell_type": "code",
   "execution_count": null,
   "metadata": {
    "colab": {
     "base_uri": "https://localhost:8080/"
    },
    "id": "xjbSODsFKuwL",
    "outputId": "6666b487-1ec0-474b-f0b1-94b21da4efa5"
   },
   "outputs": [
    {
     "data": {
      "text/plain": [
       "(0.8793304502214313, 0.7470043177837036)"
      ]
     },
     "execution_count": 41,
     "metadata": {},
     "output_type": "execute_result"
    }
   ],
   "source": [
    "r2_score(ytrain, pred_train), r2_score(ytest, pred_test)"
   ]
  },
  {
   "cell_type": "markdown",
   "metadata": {
    "id": "ZCeOy3WnLCg-"
   },
   "source": [
    "Переобучение снизилось. Качество предсказания на новых данных подросло."
   ]
  },
  {
   "cell_type": "markdown",
   "metadata": {
    "id": "LRpEOfRqLJVk"
   },
   "source": [
    "Теперь для найденной оптимальной глубины дерева подберите значение min_samples_split в диапазоне от 1 до 15 с шагом 1. Также по кросс-валидации на тренировочных данных (как и при подборе max_depth)."
   ]
  },
  {
   "cell_type": "code",
   "execution_count": null,
   "metadata": {
    "colab": {
     "base_uri": "https://localhost:8080/"
    },
    "id": "6pOpbuMBLAV2",
    "outputId": "c1bfc6dc-dd2e-435f-8ef2-c85c3ceb065d"
   },
   "outputs": [
    {
     "name": "stdout",
     "output_type": "stream",
     "text": [
      "10\n"
     ]
    }
   ],
   "source": [
    "max_score = -1\n",
    "mss = -1\n",
    "\n",
    "for m in np.arange(1,16):\n",
    "    tree = DecisionTreeRegressor(max_depth = depth, min_samples_split = m)\n",
    "\n",
    "    score = cross_val_score(tree, Xtrain, ytrain, cv=3, scoring='r2').mean()\n",
    "\n",
    "    if score > max_score:\n",
    "        max_score = score\n",
    "        mss = m\n",
    "\n",
    "print(mss)"
   ]
  },
  {
   "cell_type": "markdown",
   "metadata": {
    "id": "mqzwtbBRLyjf"
   },
   "source": [
    "Теперь для найденного значения max_depth и найденного min_samples_split обучите дерево на всех тренировочных данных, сделайте предсказание на трейне и на тесте и оцените значения метрики.\n",
    "\n",
    "Удалось ли:\n",
    "*  ещё улучшить качество предсказания на тесте?\n",
    "*  ещё снизить переобучение?"
   ]
  },
  {
   "cell_type": "code",
   "execution_count": null,
   "metadata": {
    "colab": {
     "base_uri": "https://localhost:8080/"
    },
    "id": "fStIH36QLi2e",
    "outputId": "3867b94a-7d45-4c90-eafd-bfb4800e30b6"
   },
   "outputs": [
    {
     "data": {
      "text/plain": [
       "(0.874009469665285, 0.7622744406802879)"
      ]
     },
     "execution_count": 52,
     "metadata": {},
     "output_type": "execute_result"
    }
   ],
   "source": [
    "tree3 = DecisionTreeRegressor(max_depth = depth, min_samples_split = mss)\n",
    "\n",
    "tree3.fit(Xtrain, ytrain)\n",
    "\n",
    "pred_train = tree3.predict(Xtrain)\n",
    "pred_test = tree3.predict(Xtest)\n",
    "\n",
    "r2_score(ytrain, pred_train), r2_score(ytest, pred_test)"
   ]
  },
  {
   "cell_type": "markdown",
   "metadata": {
    "id": "yCLhoEExMCal"
   },
   "source": [
    "Переобучение снизилось ещё сильнее. Модель стала работать на новых данных ещё лучше."
   ]
  },
  {
   "cell_type": "markdown",
   "metadata": {
    "id": "3EeC5xIjMFPs"
   },
   "source": [
    "Сейчас вы подбирали max_depth и min_samples_split последовательно, но, возможно, при одновременном подборе этих гиперпараметров оптимальный набор значений этих гиперпараметров получится другим.\n",
    "\n",
    "При помощи вложенного цикла по той же схеме с кросс-валидацией на тренировочных данных подберите пару значений (max_depth, min_samples_split), для которых достигается наилучшее среднее значение метрики на кросс-валидации.\n",
    "\n",
    "Выведите на экран найденные значения гиперпараметров."
   ]
  },
  {
   "cell_type": "code",
   "execution_count": null,
   "metadata": {
    "colab": {
     "base_uri": "https://localhost:8080/"
    },
    "id": "3kMJB5nHMAI7",
    "outputId": "39fbcbd9-537e-4dcd-de4b-7e7c2158178f"
   },
   "outputs": [
    {
     "name": "stdout",
     "output_type": "stream",
     "text": [
      "5 9\n"
     ]
    }
   ],
   "source": [
    "max_score = -1\n",
    "depth = -1\n",
    "mss = -1\n",
    "\n",
    "for d in np.arange(1,21):\n",
    "    for m in np.arange(1,16):\n",
    "        tree = DecisionTreeRegressor(max_depth = d, min_samples_split = m)\n",
    "\n",
    "        score = cross_val_score(tree, Xtrain, ytrain, cv=3, scoring='r2').mean()\n",
    "\n",
    "        if score > max_score:\n",
    "            max_score = score\n",
    "            depth = d\n",
    "            mss = m\n",
    "\n",
    "print(depth, mss)"
   ]
  },
  {
   "cell_type": "markdown",
   "metadata": {
    "id": "OBwguQwGMstG"
   },
   "source": [
    "Теперь для найденного значения max_depth и найденного min_samples_split обучите дерево на всех тренировочных данных, сделайте предсказание на трейне и на тесте и оцените значения метрики.\n",
    "\n",
    "*  Лучше ли подбирать гиперпараметры одновременно? Что можно сказать о качестве и переобученности алгоритма?"
   ]
  },
  {
   "cell_type": "code",
   "execution_count": null,
   "metadata": {
    "colab": {
     "base_uri": "https://localhost:8080/"
    },
    "id": "_y6UZft3MrVT",
    "outputId": "557086e7-ae7d-4e47-e2bd-7a4a6b30c9dd"
   },
   "outputs": [
    {
     "data": {
      "text/plain": [
       "(0.8304914297420238, 0.7811238056960585)"
      ]
     },
     "execution_count": 54,
     "metadata": {},
     "output_type": "execute_result"
    }
   ],
   "source": [
    "tree4 = DecisionTreeRegressor(max_depth = depth, min_samples_split = mss)\n",
    "\n",
    "tree4.fit(Xtrain, ytrain)\n",
    "\n",
    "pred_train = tree4.predict(Xtrain)\n",
    "pred_test = tree4.predict(Xtest)\n",
    "\n",
    "r2_score(ytrain, pred_train), r2_score(ytest, pred_test)"
   ]
  },
  {
   "cell_type": "markdown",
   "metadata": {
    "id": "n-KZ3YTIM95e"
   },
   "source": [
    "Одновременный подбор гиперпараметров точнее, чем поочередный. Это можно видеть по метрикам."
   ]
  },
  {
   "cell_type": "markdown",
   "metadata": {
    "id": "7FBe8oQWM_tc"
   },
   "source": [
    "А теперь попробуйте снизить переобучение не за счёт подбора различных гиперпараметров, ограничивающих структуру дерева, а за счёт стрижки.\n",
    "\n",
    "По аналогии с тем, как было сделано в уроке про стрижку, найдите список возможных значений $\\alpha$ для стрижки, вычисляя их по тренировочным данным (нужна функция cost_complexity_pruning_path)."
   ]
  },
  {
   "cell_type": "code",
   "execution_count": null,
   "metadata": {
    "id": "0DijmR91M7Ql"
   },
   "outputs": [],
   "source": [
    "tree = DecisionTreeRegressor()\n",
    "\n",
    "path = tree.cost_complexity_pruning_path(Xtrain, ytrain)\n",
    "alphas = path['ccp_alphas']"
   ]
  },
  {
   "cell_type": "markdown",
   "metadata": {
    "id": "usTnmyQ1N6P2"
   },
   "source": [
    "Следуя ноутбуку из того же скринкаста про стрижку, для каждого из найденных значений $\\alpha$ обучите решающее дерево на тренировочных данных, сделайте предсказания на трейне и тесте и вычислите метрику. \n",
    "\n",
    "Постройте графики ошибки на трейне и тесте в зависимости от значения $\\alpha$, оба графика на одной координатной плоскости.\n",
    "\n",
    "Также вычислите значение $\\alpha$, для которого качество на тесте максимально. Выведите его на экран."
   ]
  },
  {
   "cell_type": "code",
   "execution_count": 34,
   "metadata": {
    "colab": {
     "base_uri": "https://localhost:8080/",
     "height": 461
    },
    "id": "u4wlnAKeNjGQ",
    "outputId": "38594822-ceac-4f1c-a8eb-2e1c5bfe8b42"
   },
   "outputs": [
    {
     "data": {
      "image/png": "[encoded data removed]",
      "text/plain": [
       "<Figure size 1008x504 with 1 Axes>"
      ]
     },
     "metadata": {},
     "output_type": "display_data"
    },
    {
     "name": "stdout",
     "output_type": "stream",
     "text": [
      "15142504.949450381\n"
     ]
    }
   ],
   "source": [
    "r2_train, r2_test=[], []\n",
    "\n",
    "max_score = -1\n",
    "alpha = -1\n",
    "\n",
    "for i in alphas:\n",
    "    tree = DecisionTreeRegressor(ccp_alpha = i)\n",
    "    \n",
    "    tree.fit(Xtrain, ytrain)\n",
    "    ytrain_pred = tree.predict(Xtrain)\n",
    "    ytest_pred = tree.predict(Xtest)\n",
    "    \n",
    "    r2_train.append(r2_score(ytrain, ytrain_pred))\n",
    "    r2_test.append(r2_score(ytest, ytest_pred))\n",
    "\n",
    "    if r2_score(ytest, ytest_pred) > max_score:\n",
    "        max_score = r2_score(ytest, ytest_pred)\n",
    "        alpha = i\n",
    "    \n",
    "    \n",
    "sns.set()\n",
    "plt.figure(figsize=(14,7))\n",
    "sns.lineplot(y = r2_train, x = alphas, label = \"Train r2\")\n",
    "sns.lineplot(y = r2_test, x = alphas, label = \"Test r2\")\n",
    "plt.show()\n",
    "print(alpha)"
   ]
  },
  {
   "cell_type": "markdown",
   "metadata": {
    "id": "dw062q8TOgWY"
   },
   "source": [
    "Для найденного значения $\\alpha$ обучите дерево с параметром ccp_alpha равным $\\alpha$ на тренировочных данных, сделайте предсказание на трейне и тесте и оцените качество предсказания на новых данных и переобучение модели.\n",
    "\n",
    "Какая модель в итоге получилась лучше: с ограничением max_depth и min_samples_split или при помощи стрижки?"
   ]
  },
  {
   "cell_type": "code",
   "execution_count": null,
   "metadata": {
    "colab": {
     "base_uri": "https://localhost:8080/"
    },
    "id": "JOVRCfRpNs8N",
    "outputId": "af68b36a-9c0d-473a-d2fc-a5e396475347"
   },
   "outputs": [
    {
     "data": {
      "text/plain": [
       "(0.8605964058410931, 0.798560696099226)"
      ]
     },
     "execution_count": 65,
     "metadata": {},
     "output_type": "execute_result"
    }
   ],
   "source": [
    "tree5 = DecisionTreeRegressor(ccp_alpha = alpha)\n",
    "\n",
    "tree5.fit(Xtrain, ytrain)\n",
    "\n",
    "pred_train = tree5.predict(Xtrain)\n",
    "pred_test = tree5.predict(Xtest)\n",
    "\n",
    "r2_score(ytrain, pred_train), r2_score(ytest, pred_test)"
   ]
  },
  {
   "cell_type": "markdown",
   "metadata": {
    "id": "mqVkwTfDPOdY"
   },
   "source": [
    "Стрижка выдала наиболее качественную модель: она лучше всех предсказывает на новых данных и при этом слабо переобучена."
   ]
  }
 ],
 "metadata": {
  "colab": {
   "collapsed_sections": [
    "fXc3niR9PbGL",
    "C8YKyXPnPbGM",
    "TXDXq9oUPbGN",
    "Xg32f6pTPbGP",
    "ydp7Rt5zPbGQ",
    "GZCJNfIiPbGR"
   ],
   "provenance": []
  },
  "kernelspec": {
   "display_name": "Python 3 (ipykernel)",
   "language": "python",
   "name": "python3"
  },
  "language_info": {
   "codemirror_mode": {
    "name": "ipython",
    "version": 3
   },
   "file_extension": ".py",
   "mimetype": "text/x-python",
   "name": "python",
   "nbconvert_exporter": "python",
   "pygments_lexer": "ipython3",
   "version": "3.9.12"
  }
 },
 "nbformat": 4,
 "nbformat_minor": 1
}
