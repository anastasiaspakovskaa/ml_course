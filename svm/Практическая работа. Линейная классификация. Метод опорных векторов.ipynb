{
 "cells": [
  {
   "cell_type": "markdown",
   "metadata": {
    "id": "CIu2DPx5tWcg"
   },
   "source": [
    "## Практическая работа"
   ]
  },
  {
   "cell_type": "markdown",
   "metadata": {
    "id": "MEdLy24do28f"
   },
   "source": [
    "## Цели практической работы\n",
    "\n",
    "*  решить реальную задачу;\n",
    "*  потренироваться в обработке данных;\n",
    "*  обучить различные модели классификации, подобрать гиперпараметры и выбрать лучшую модель;\n",
    "*  добиться наилучшего качества в задаче."
   ]
  },
  {
   "cell_type": "markdown",
   "metadata": {
    "id": "d6oxDXgFpD_6"
   },
   "source": [
    "## Что входит в практическую работу\n",
    "\n",
    "*  исследование датасета и обработка данных (работа с пропущенными и ошибочными значениями);\n",
    "*  обучение различных моделей классификации с параметрами по умолчанию;\n",
    "*  подбор гиперпараметров моделей;\n",
    "*  смешивание моделей;\n",
    "*  оценка качества моделей."
   ]
  },
  {
   "cell_type": "markdown",
   "metadata": {
    "id": "WOZ8SueHpZGd"
   },
   "source": [
    "## Что оценивается\n",
    "\n",
    "*  Выполнены все этапы задания: код запускается, отрабатывает без ошибок; подробно и обоснованно написаны текстовые выводы, где это требуется."
   ]
  },
  {
   "cell_type": "markdown",
   "metadata": {
    "id": "UMr-wvh3pbrK"
   },
   "source": [
    "## Формат сдачи\n",
    "Выполните предложенные задания: впишите свой код (или, если требуется, текст) в ячейки после комментариев. \n",
    "\n",
    "*Комментарии — это текст, который начинается с символа #. Например: # ваш код здесь.*\n",
    "\n",
    "Сохраните изменения, используя опцию Save and Checkpoint из вкладки меню File или кнопку Save and Checkpoint на панели инструментов. Итоговый файл в формате .ipynb (файл Jupyter Notebook) загрузите в личный кабинет и отправьте на проверку."
   ]
  },
  {
   "cell_type": "markdown",
   "metadata": {
    "id": "ENiWYl_EtWcm"
   },
   "source": [
    "### 1. Загрузите тренировочные и тестовые датасеты"
   ]
  },
  {
   "cell_type": "code",
   "execution_count": 91,
   "metadata": {
    "id": "_uf-KNwQtWcn"
   },
   "outputs": [],
   "source": [
    "import pandas as pd\n",
    "from category_encoders import TargetEncoder\n",
    "from sklearn.preprocessing import StandardScaler\n",
    "from sklearn.linear_model import LogisticRegression\n",
    "from sklearn.svm import SVC\n",
    "from sklearn.neighbors import KNeighborsClassifier\n",
    "\n",
    "Xtrain = pd.read_csv(\"TrainData.csv\")\n",
    "Xtest = pd.read_csv(\"TestData.csv\")"
   ]
  },
  {
   "cell_type": "markdown",
   "metadata": {
    "id": "CaELM2gPtWcq"
   },
   "source": [
    "### 2. Изучите тренировочные и тестовые данные на наличие:\n",
    "- пропусков,\n",
    "- ошибочных значений.\n",
    "\n",
    "Обработайте пропуски и ошибочные значения способом, выбранным по своему усмотрению."
   ]
  },
  {
   "cell_type": "code",
   "execution_count": 92,
   "metadata": {},
   "outputs": [
    {
     "data": {
      "text/plain": [
       "(7500, 15)"
      ]
     },
     "execution_count": 92,
     "metadata": {},
     "output_type": "execute_result"
    }
   ],
   "source": [
    "Xtrain.shape"
   ]
  },
  {
   "cell_type": "code",
   "execution_count": 93,
   "metadata": {},
   "outputs": [
    {
     "data": {
      "text/plain": [
       "[('f7', 0.25),\n",
       " ('f2', 0.01),\n",
       " ('f11', 0.0013333333333333333),\n",
       " ('f1', 0.0),\n",
       " ('f3', 0.0),\n",
       " ('f4', 0.0),\n",
       " ('f5', 0.0),\n",
       " ('f6', 0.0),\n",
       " ('f8', 0.0),\n",
       " ('f9', 0.0),\n",
       " ('f10', 0.0),\n",
       " ('f12', 0.0),\n",
       " ('f13', 0.0),\n",
       " ('f14', 0.0),\n",
       " ('target', 0.0)]"
      ]
     },
     "execution_count": 93,
     "metadata": {},
     "output_type": "execute_result"
    }
   ],
   "source": [
    "# процент пропущенных значений\n",
    "def missing(df):\n",
    "    n = len(df)\n",
    "    missing_values = {}\n",
    "    for i in df.columns:\n",
    "        missing_values[i] = len(df[df[i].isna()]) / n\n",
    "\n",
    "    return sorted(missing_values.items(), key = lambda x: x[1], reverse=True)\n",
    "    \n",
    "missing(Xtrain)"
   ]
  },
  {
   "cell_type": "code",
   "execution_count": 94,
   "metadata": {},
   "outputs": [
    {
     "data": {
      "text/html": [
       "<div>\n",
       "<style scoped>\n",
       "    .dataframe tbody tr th:only-of-type {\n",
       "        vertical-align: middle;\n",
       "    }\n",
       "\n",
       "    .dataframe tbody tr th {\n",
       "        vertical-align: top;\n",
       "    }\n",
       "\n",
       "    .dataframe thead th {\n",
       "        text-align: right;\n",
       "    }\n",
       "</style>\n",
       "<table border=\"1\" class=\"dataframe\">\n",
       "  <thead>\n",
       "    <tr style=\"text-align: right;\">\n",
       "      <th></th>\n",
       "      <th>f7</th>\n",
       "      <th>f2</th>\n",
       "      <th>f11</th>\n",
       "    </tr>\n",
       "  </thead>\n",
       "  <tbody>\n",
       "    <tr>\n",
       "      <th>count</th>\n",
       "      <td>5625.000000</td>\n",
       "      <td>7425.000000</td>\n",
       "      <td>7490.000000</td>\n",
       "    </tr>\n",
       "    <tr>\n",
       "      <th>mean</th>\n",
       "      <td>0.240556</td>\n",
       "      <td>238.905308</td>\n",
       "      <td>1068.693992</td>\n",
       "    </tr>\n",
       "    <tr>\n",
       "      <th>std</th>\n",
       "      <td>0.147371</td>\n",
       "      <td>76.198282</td>\n",
       "      <td>7430.344770</td>\n",
       "    </tr>\n",
       "    <tr>\n",
       "      <th>min</th>\n",
       "      <td>0.000000</td>\n",
       "      <td>64.259070</td>\n",
       "      <td>0.000000</td>\n",
       "    </tr>\n",
       "    <tr>\n",
       "      <th>25%</th>\n",
       "      <td>0.115721</td>\n",
       "      <td>218.593930</td>\n",
       "      <td>0.000000</td>\n",
       "    </tr>\n",
       "    <tr>\n",
       "      <th>50%</th>\n",
       "      <td>0.241573</td>\n",
       "      <td>218.593930</td>\n",
       "      <td>0.000000</td>\n",
       "    </tr>\n",
       "    <tr>\n",
       "      <th>75%</th>\n",
       "      <td>0.439103</td>\n",
       "      <td>218.593930</td>\n",
       "      <td>0.000000</td>\n",
       "    </tr>\n",
       "    <tr>\n",
       "      <th>max</th>\n",
       "      <td>0.482222</td>\n",
       "      <td>575.396825</td>\n",
       "      <td>99999.000000</td>\n",
       "    </tr>\n",
       "  </tbody>\n",
       "</table>\n",
       "</div>"
      ],
      "text/plain": [
       "                f7           f2           f11\n",
       "count  5625.000000  7425.000000   7490.000000\n",
       "mean      0.240556   238.905308   1068.693992\n",
       "std       0.147371    76.198282   7430.344770\n",
       "min       0.000000    64.259070      0.000000\n",
       "25%       0.115721   218.593930      0.000000\n",
       "50%       0.241573   218.593930      0.000000\n",
       "75%       0.439103   218.593930      0.000000\n",
       "max       0.482222   575.396825  99999.000000"
      ]
     },
     "execution_count": 94,
     "metadata": {},
     "output_type": "execute_result"
    }
   ],
   "source": [
    "Xtrain[['f7', 'f2', 'f11']].describe()"
   ]
  },
  {
   "cell_type": "code",
   "execution_count": 95,
   "metadata": {},
   "outputs": [],
   "source": [
    "# f7 заполним средним значением\n",
    "Xtrain['f7'] = Xtrain['f7'].fillna(Xtrain['f7'].mean())"
   ]
  },
  {
   "cell_type": "code",
   "execution_count": 96,
   "metadata": {},
   "outputs": [],
   "source": [
    "# f2, f11 заполним самым распространенным значением\n",
    "Xtrain['f2'] = Xtrain['f2'].fillna(Xtrain['f2'].mode()[0])\n",
    "Xtrain['f11'] = Xtrain['f11'].fillna(Xtrain['f11'].mode()[0])"
   ]
  },
  {
   "cell_type": "code",
   "execution_count": 97,
   "metadata": {},
   "outputs": [
    {
     "data": {
      "text/plain": [
       "(2500, 15)"
      ]
     },
     "execution_count": 97,
     "metadata": {},
     "output_type": "execute_result"
    }
   ],
   "source": [
    "Xtest.shape"
   ]
  },
  {
   "cell_type": "code",
   "execution_count": 98,
   "metadata": {},
   "outputs": [
    {
     "data": {
      "text/plain": [
       "[('f1', 0.0),\n",
       " ('f2', 0.0),\n",
       " ('f3', 0.0),\n",
       " ('f4', 0.0),\n",
       " ('f5', 0.0),\n",
       " ('f6', 0.0),\n",
       " ('f7', 0.0),\n",
       " ('f8', 0.0),\n",
       " ('f9', 0.0),\n",
       " ('f10', 0.0),\n",
       " ('f11', 0.0),\n",
       " ('f12', 0.0),\n",
       " ('f13', 0.0),\n",
       " ('f14', 0.0),\n",
       " ('target', 0.0)]"
      ]
     },
     "execution_count": 98,
     "metadata": {},
     "output_type": "execute_result"
    }
   ],
   "source": [
    "missing(Xtest)"
   ]
  },
  {
   "cell_type": "code",
   "execution_count": 99,
   "metadata": {},
   "outputs": [],
   "source": [
    "# нормализуем данные\n",
    "sc = StandardScaler()\n",
    "Xtrain.iloc[:, :-1] = pd.DataFrame(sc.fit_transform(Xtrain.iloc[:, :-1]), columns=Xtrain.iloc[:, :-1].columns)\n",
    "Xtest.iloc[:, :-1] = pd.DataFrame(sc.fit_transform(Xtest.iloc[:, :-1]), columns=Xtest.iloc[:, :-1].columns)"
   ]
  },
  {
   "cell_type": "markdown",
   "metadata": {
    "id": "oQkpwQGHtWcr"
   },
   "source": [
    "### 3. Оцените баланс классов в задаче\n",
    "- Затем попытайтесь устно ответить на вопрос, можно ли использовать accuracy как метрику качества в задаче? "
   ]
  },
  {
   "cell_type": "code",
   "execution_count": 100,
   "metadata": {
    "id": "csjvNCCutWcs"
   },
   "outputs": [
    {
     "data": {
      "text/plain": [
       "0    5708\n",
       "1    1792\n",
       "Name: target, dtype: int64"
      ]
     },
     "execution_count": 100,
     "metadata": {},
     "output_type": "execute_result"
    }
   ],
   "source": [
    "Xtrain['target'].value_counts()"
   ]
  },
  {
   "cell_type": "markdown",
   "metadata": {},
   "source": [
    "Обучающая выборка несбалансирована, поэтому метрика accuracy будет недостаточно точно определять качество модели."
   ]
  },
  {
   "cell_type": "markdown",
   "metadata": {
    "id": "xB_ReQ62tWct"
   },
   "source": [
    "### 3. Постройте baseline-модель:\n",
    "- разбейте TrainData на тренировочные (Train) и тестовые данные (Test); \n",
    "- обучите KNN, LogisticRegression и SVC с параметрами по умолчанию на тренировочных данных (Train);\n",
    "- примените модели на тестовых данных (Test) и вычислите значение метрики f1."
   ]
  },
  {
   "cell_type": "code",
   "execution_count": 101,
   "metadata": {
    "id": "WUfRVj5ctWcu"
   },
   "outputs": [
    {
     "data": {
      "text/plain": [
       "SVC()"
      ]
     },
     "execution_count": 101,
     "metadata": {},
     "output_type": "execute_result"
    }
   ],
   "source": [
    "from sklearn.metrics import f1_score\n",
    "from sklearn.model_selection import train_test_split\n",
    "\n",
    "X = Xtrain.drop(['target'], axis=1)\n",
    "y = Xtrain['target']\n",
    "X_train, X_test, y_train, y_test = train_test_split(X, y, test_size=0.2, random_state=42)\n",
    "\n",
    "knn = KNeighborsClassifier()\n",
    "lr = LogisticRegression()\n",
    "svc = SVC()\n",
    "\n",
    "knn.fit(X_train, y_train)\n",
    "lr.fit(X_train, y_train)\n",
    "svc.fit(X_train, y_train)"
   ]
  },
  {
   "cell_type": "code",
   "execution_count": 102,
   "metadata": {},
   "outputs": [],
   "source": [
    "knn_pred = knn.predict(X_test)\n",
    "lr_pred = lr.predict(X_test)\n",
    "svc_pred = svc.predict(X_test)"
   ]
  },
  {
   "cell_type": "code",
   "execution_count": 103,
   "metadata": {},
   "outputs": [
    {
     "name": "stdout",
     "output_type": "stream",
     "text": [
      "knn: 0.6081694402420575\n",
      "lr: 0.6188197767145136\n",
      "svc: 0.6127946127946128\n"
     ]
    }
   ],
   "source": [
    "print('knn:', f1_score(y_test, knn_pred))\n",
    "print('lr:', f1_score(y_test, lr_pred))\n",
    "print('svc:', f1_score(y_test, svc_pred))"
   ]
  },
  {
   "cell_type": "markdown",
   "metadata": {
    "id": "KYQnr8CftWcv"
   },
   "source": [
    "### 4. Улучшите модели\n",
    "Попробуйте улучшить качество обученных моделей:\n",
    "- можете подбирать гиперпараметры моделей (лучше это делать по кросс-валидации на Train, то есть с помощью использования GridSearchCV на Train);\n",
    "- можете задавать class_weights;\n",
    "- можете вручную или при помощи методов Python генерировать новые признаки и/или удалять существующие.\n",
    "\n",
    "Это самая важная и творческая часть задания. Проводите как можно больше экспериментов!\n",
    "\n",
    "Проведите минимиум три эксперимента: для каждого типа модели минимум один эксперимент."
   ]
  },
  {
   "cell_type": "code",
   "execution_count": 116,
   "metadata": {
    "id": "ZJrKNIw8tWcw"
   },
   "outputs": [
    {
     "data": {
      "text/plain": [
       "{'n_neighbors': 13, 'weights': 'distance'}"
      ]
     },
     "execution_count": 116,
     "metadata": {},
     "output_type": "execute_result"
    }
   ],
   "source": [
    "from sklearn.model_selection import GridSearchCV\n",
    "\n",
    "parameters = {'n_neighbors': [i for i in range(1, 20, 2)], \n",
    "              'weights': ['uniform', 'distance']}\n",
    "knn = KNeighborsClassifier()\n",
    "clf = GridSearchCV(knn, parameters, scoring='f1', cv=3)\n",
    "clf.fit(X_train, y_train)\n",
    "knn_bparams = clf.best_params_\n",
    "knn_bparams"
   ]
  },
  {
   "cell_type": "code",
   "execution_count": 117,
   "metadata": {},
   "outputs": [
    {
     "name": "stdout",
     "output_type": "stream",
     "text": [
      "knn: 0.6003110419906689\n"
     ]
    }
   ],
   "source": [
    "knn = KNeighborsClassifier(**knn_bparams)\n",
    "knn.fit(X_train, y_train)\n",
    "knn_pred = knn.predict(X_test)\n",
    "knn_score = f1_score(y_test, knn_pred)\n",
    "print('knn:', knn_score)"
   ]
  },
  {
   "cell_type": "code",
   "execution_count": 118,
   "metadata": {},
   "outputs": [
    {
     "data": {
      "text/plain": [
       "{'C': 1.6, 'class_weight': 'balanced'}"
      ]
     },
     "execution_count": 118,
     "metadata": {},
     "output_type": "execute_result"
    }
   ],
   "source": [
    "import warnings\n",
    "from sklearn.exceptions import ConvergenceWarning\n",
    "\n",
    "warnings.filterwarnings(action='ignore', category=ConvergenceWarning)\n",
    "warnings.filterwarnings('ignore', category=UserWarning)\n",
    "\n",
    "parameters = {'class_weight': ['balanced', None],\n",
    "             'C': [i / 5 for i in range(1, 10)]}\n",
    "lr = LogisticRegression()\n",
    "clf = GridSearchCV(lr, parameters, scoring='f1', cv=3)\n",
    "clf.fit(X_train, y_train)\n",
    "lr_bparams = clf.best_params_\n",
    "lr_bparams"
   ]
  },
  {
   "cell_type": "code",
   "execution_count": 119,
   "metadata": {},
   "outputs": [
    {
     "name": "stdout",
     "output_type": "stream",
     "text": [
      "lr: 0.6527472527472528\n"
     ]
    }
   ],
   "source": [
    "lr = LogisticRegression(**lr_bparams)\n",
    "lr.fit(X_train, y_train)\n",
    "lr_pred = lr.predict(X_test)\n",
    "lr_score = f1_score(y_test, lr_pred)\n",
    "print('lr:', lr_score)"
   ]
  },
  {
   "cell_type": "code",
   "execution_count": 120,
   "metadata": {},
   "outputs": [
    {
     "data": {
      "text/plain": [
       "{'C': 1.5, 'class_weight': 'balanced', 'kernel': 'rbf'}"
      ]
     },
     "execution_count": 120,
     "metadata": {},
     "output_type": "execute_result"
    }
   ],
   "source": [
    "parameters = {'C': [i / 2 for i in range(1, 4)], \n",
    "              'kernel': ['linear', 'poly', 'rbf', 'sigmoid'],\n",
    "              'class_weight': ['balanced']}\n",
    "svc = SVC()\n",
    "clf = GridSearchCV(svc, parameters, scoring='f1', cv=3)\n",
    "clf.fit(X_train, y_train)\n",
    "svc_bparams = clf.best_params_\n",
    "svc_bparams"
   ]
  },
  {
   "cell_type": "code",
   "execution_count": 127,
   "metadata": {},
   "outputs": [
    {
     "name": "stdout",
     "output_type": "stream",
     "text": [
      "svc: 0.6524520255863541\n"
     ]
    }
   ],
   "source": [
    "svc = SVC(**svc_bparams, probability=True)\n",
    "svc.fit(X_train, y_train)\n",
    "svc_pred = svc.predict(X_test)\n",
    "svc_score = f1_score(y_test, svc_pred)\n",
    "print('svc:', svc_score)"
   ]
  },
  {
   "cell_type": "markdown",
   "metadata": {
    "id": "yfu3yy_7tWcy"
   },
   "source": [
    "### 5. Оцените на отложенной выборке качество наилучшей модели\n",
    "В пунктах 3 и 4 вы построили много разных моделей.\n",
    "\n",
    "Возьмите ту, которая дала наилучшее качество на тестовых данных (Test). Примените её на отложенной выборке (TestData) и выведите на экран значение метрики f1."
   ]
  },
  {
   "cell_type": "code",
   "execution_count": 128,
   "metadata": {
    "id": "upHUOfrktWcy"
   },
   "outputs": [
    {
     "name": "stdout",
     "output_type": "stream",
     "text": [
      "lr: 0.5216494845360825\n"
     ]
    }
   ],
   "source": [
    "best_score = max(knn_score, lr_score, svc_score)\n",
    "if knn_score == best_score:\n",
    "    print('knn:', f1_score(Xtest['target'], knn.predict(Xtest.iloc[:, :-1])))\n",
    "elif lr_score == best_score:\n",
    "    print('lr:', f1_score(Xtest['target'], lr.predict(Xtest.iloc[:, :-1])))\n",
    "else:\n",
    "    print('svc:', f1_score(Xtest['target'], svc.predict(Xtest.iloc[:, :-1])))"
   ]
  },
  {
   "cell_type": "markdown",
   "metadata": {
    "id": "YZT0rMuStWcz"
   },
   "source": [
    "### 6. Выполните хитрый трюк\n",
    "Часто смешивание различных моделей даёт улучшение итогового предсказания. Попробуйте смешать две лучшие модели по формуле:\n",
    "$$pred_{final} = \\alpha\\cdot pred_1 + (1-\\alpha)\\cdot pred_2$$.\n",
    "\n",
    "Значение $\\alpha$ подберите в цикле по Test-выборке. Оцените качество на отложенной выборке.\n",
    "\n",
    "Удалось ли добиться улучшения качества?"
   ]
  },
  {
   "cell_type": "code",
   "execution_count": 135,
   "metadata": {
    "id": "3DdSsk6gtWc7"
   },
   "outputs": [
    {
     "data": {
      "text/plain": [
       "(0.6674907292954264, 0.4)"
      ]
     },
     "execution_count": 135,
     "metadata": {},
     "output_type": "execute_result"
    }
   ],
   "source": [
    "def predict_fin(pred1, pred2, alpha):\n",
    "    return [1 if alpha * pred1[i][1] + (1 - alpha) * pred2[i][1] > 0.5 else 0 for i in range(len(pred1))]\n",
    "\n",
    "\n",
    "lr_proba = lr.predict_proba(X_test)\n",
    "svc_proba = svc.predict_proba(X_test)\n",
    "best_alpha = 0\n",
    "best_score = 0\n",
    "\n",
    "for i in range(0, 11):\n",
    "    cur_score = f1_score(y_test, predict_fin(lr_proba, svc_proba, i / 10))\n",
    "    if cur_score > best_score:\n",
    "        best_score = cur_score\n",
    "        best_alpha = i / 10\n",
    "        \n",
    "best_score, best_alpha"
   ]
  },
  {
   "cell_type": "code",
   "execution_count": 136,
   "metadata": {},
   "outputs": [
    {
     "data": {
      "text/plain": [
       "0.3764705882352941"
      ]
     },
     "execution_count": 136,
     "metadata": {},
     "output_type": "execute_result"
    }
   ],
   "source": [
    "lr_proba = lr.predict_proba(Xtest.iloc[:, :-1])\n",
    "svc_proba = svc.predict_proba(Xtest.iloc[:, :-1])\n",
    "f1_score(Xtest['target'], predict_fin(lr_proba, svc_proba, best_alpha))"
   ]
  },
  {
   "cell_type": "markdown",
   "metadata": {
    "id": "9b9imFkLtWc8"
   },
   "source": [
    "### 7. Сделайте выводы\n",
    "\n",
    "Запишите в отдельной ячейке текстом выводы о проделанной работе. Для этого ответьте на вопросы:\n",
    "- Какие подходы вы использовали для улучшения работы baseline-моделей?\n",
    "- Какого максимального качества удалось добиться на Test-данных?\n",
    "- Какое при этом получилось качество на отложенной выборке? \n",
    "- Ваша модель переобучилась, недообучилась или обучилась как надо?"
   ]
  },
  {
   "cell_type": "code",
   "execution_count": 112,
   "metadata": {
    "id": "wWgT4ulytWc-"
   },
   "outputs": [],
   "source": [
    "# Для улучшения качества моделей были подобраны параметры с помощью кросс-валидации, две лучшие модели смешали\n",
    "# На тестовых данных удалось добиться точности f1_score = 0.6674907292954264\n",
    "# На отложенной выборке точность уменьшилась до 0.3764705882352941 из чего можно сделать вывод, что модель переобучилась"
   ]
  },
  {
   "cell_type": "markdown",
   "metadata": {
    "id": "cnFjm55atWc-"
   },
   "source": [
    "Важный комментарий! В реальных задачах не следует ожидать, что машинным обучением всегда удастся решить задачу с хорошим качеством. Но использовать все имеющиеся у вас в арсенале методы для достижения наилучшего результата нужно."
   ]
  }
 ],
 "metadata": {
  "colab": {
   "collapsed_sections": [],
   "provenance": []
  },
  "kernelspec": {
   "display_name": "Python 3 (ipykernel)",
   "language": "python",
   "name": "python3"
  },
  "language_info": {
   "codemirror_mode": {
    "name": "ipython",
    "version": 3
   },
   "file_extension": ".py",
   "mimetype": "text/x-python",
   "name": "python",
   "nbconvert_exporter": "python",
   "pygments_lexer": "ipython3",
   "version": "3.9.12"
  }
 },
 "nbformat": 4,
 "nbformat_minor": 1
}
