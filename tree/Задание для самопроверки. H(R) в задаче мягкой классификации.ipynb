{
 "cells": [
  {
   "cell_type": "markdown",
   "metadata": {
    "id": "L1fRxjzMn2mu"
   },
   "source": [
    "## Цель практической работы\n",
    "\n",
    "Закрепить на практике знания о процедуре обучения решающего дерева.\n"
   ]
  },
  {
   "cell_type": "markdown",
   "metadata": {
    "id": "_JPkpafooKR-"
   },
   "source": [
    "## Что входит в практическую работу\n",
    "\n",
    "*  Загрузка датасета.\n",
    "*  Поиск оптимального порога для выбранного признака в корне дерева.\n",
    "*  Поиск оптимальной пары (признак, порог) в корне дерева.\n",
    "*  Визуальный анализ первого разбиения."
   ]
  },
  {
   "cell_type": "markdown",
   "metadata": {
    "id": "wGUh9-kKDVk_"
   },
   "source": [
    "## Что нужно сделать\n",
    "Постройте первое разбиение объектов на две части в решающем дереве самостоятельно, без использования готовых моделей из библиотек Python (исходя из максимизации Information Gain или минимизации аналогичной функции).\n",
    "\n",
    "Эту практическую работу не нужно сдавать на проверку. Выполните все задания и сверьтесь с ответами ниже."
   ]
  },
  {
   "cell_type": "markdown",
   "metadata": {
    "id": "GcmiVSScpXWO"
   },
   "source": [
    "В этом задании вы будете решать задачу регрессии (ведь решающее дерево можно применять и в задачах классификации) — предсказывать стоимость домов по их характеристикам."
   ]
  },
  {
   "cell_type": "code",
   "execution_count": 1,
   "metadata": {
    "id": "CUIpa4bjlMRH"
   },
   "outputs": [],
   "source": [
    "import pandas as pd\n",
    "from sklearn.model_selection import train_test_split\n",
    "from matplotlib import pyplot as plt\n",
    "import numpy as np\n",
    "\n",
    "from sklearn.datasets import fetch_california_housing"
   ]
  },
  {
   "cell_type": "code",
   "execution_count": 2,
   "metadata": {
    "id": "EzRlWqgPldr6"
   },
   "outputs": [],
   "source": [
    "housing = fetch_california_housing(as_frame=True)"
   ]
  },
  {
   "cell_type": "code",
   "execution_count": 4,
   "metadata": {
    "colab": {
     "base_uri": "https://localhost:8080/",
     "height": 223
    },
    "id": "HiW1vky9lfQj",
    "outputId": "aca7c3b7-1ada-4c00-ceb3-5aba22fccd76"
   },
   "outputs": [
    {
     "name": "stdout",
     "output_type": "stream",
     "text": [
      "Data shape: (20640, 8)\n"
     ]
    },
    {
     "data": {
      "text/html": [
       "<div>\n",
       "<style scoped>\n",
       "    .dataframe tbody tr th:only-of-type {\n",
       "        vertical-align: middle;\n",
       "    }\n",
       "\n",
       "    .dataframe tbody tr th {\n",
       "        vertical-align: top;\n",
       "    }\n",
       "\n",
       "    .dataframe thead th {\n",
       "        text-align: right;\n",
       "    }\n",
       "</style>\n",
       "<table border=\"1\" class=\"dataframe\">\n",
       "  <thead>\n",
       "    <tr style=\"text-align: right;\">\n",
       "      <th></th>\n",
       "      <th>MedInc</th>\n",
       "      <th>HouseAge</th>\n",
       "      <th>AveRooms</th>\n",
       "      <th>AveBedrms</th>\n",
       "      <th>Population</th>\n",
       "      <th>AveOccup</th>\n",
       "      <th>Latitude</th>\n",
       "      <th>Longitude</th>\n",
       "    </tr>\n",
       "  </thead>\n",
       "  <tbody>\n",
       "    <tr>\n",
       "      <th>0</th>\n",
       "      <td>8.3252</td>\n",
       "      <td>41.0</td>\n",
       "      <td>6.984127</td>\n",
       "      <td>1.023810</td>\n",
       "      <td>322.0</td>\n",
       "      <td>2.555556</td>\n",
       "      <td>37.88</td>\n",
       "      <td>-122.23</td>\n",
       "    </tr>\n",
       "    <tr>\n",
       "      <th>1</th>\n",
       "      <td>8.3014</td>\n",
       "      <td>21.0</td>\n",
       "      <td>6.238137</td>\n",
       "      <td>0.971880</td>\n",
       "      <td>2401.0</td>\n",
       "      <td>2.109842</td>\n",
       "      <td>37.86</td>\n",
       "      <td>-122.22</td>\n",
       "    </tr>\n",
       "    <tr>\n",
       "      <th>2</th>\n",
       "      <td>7.2574</td>\n",
       "      <td>52.0</td>\n",
       "      <td>8.288136</td>\n",
       "      <td>1.073446</td>\n",
       "      <td>496.0</td>\n",
       "      <td>2.802260</td>\n",
       "      <td>37.85</td>\n",
       "      <td>-122.24</td>\n",
       "    </tr>\n",
       "    <tr>\n",
       "      <th>3</th>\n",
       "      <td>5.6431</td>\n",
       "      <td>52.0</td>\n",
       "      <td>5.817352</td>\n",
       "      <td>1.073059</td>\n",
       "      <td>558.0</td>\n",
       "      <td>2.547945</td>\n",
       "      <td>37.85</td>\n",
       "      <td>-122.25</td>\n",
       "    </tr>\n",
       "    <tr>\n",
       "      <th>4</th>\n",
       "      <td>3.8462</td>\n",
       "      <td>52.0</td>\n",
       "      <td>6.281853</td>\n",
       "      <td>1.081081</td>\n",
       "      <td>565.0</td>\n",
       "      <td>2.181467</td>\n",
       "      <td>37.85</td>\n",
       "      <td>-122.25</td>\n",
       "    </tr>\n",
       "  </tbody>\n",
       "</table>\n",
       "</div>"
      ],
      "text/plain": [
       "   MedInc  HouseAge  AveRooms  AveBedrms  Population  AveOccup  Latitude  \\\n",
       "0  8.3252      41.0  6.984127   1.023810       322.0  2.555556     37.88   \n",
       "1  8.3014      21.0  6.238137   0.971880      2401.0  2.109842     37.86   \n",
       "2  7.2574      52.0  8.288136   1.073446       496.0  2.802260     37.85   \n",
       "3  5.6431      52.0  5.817352   1.073059       558.0  2.547945     37.85   \n",
       "4  3.8462      52.0  6.281853   1.081081       565.0  2.181467     37.85   \n",
       "\n",
       "   Longitude  \n",
       "0    -122.23  \n",
       "1    -122.22  \n",
       "2    -122.24  \n",
       "3    -122.25  \n",
       "4    -122.25  "
      ]
     },
     "execution_count": 4,
     "metadata": {},
     "output_type": "execute_result"
    }
   ],
   "source": [
    "X = housing['data']\n",
    "y = housing['target']\n",
    "\n",
    "print(f\"Data shape: {X.shape}\")\n",
    "X.head()"
   ]
  },
  {
   "cell_type": "code",
   "execution_count": 5,
   "metadata": {
    "colab": {
     "base_uri": "https://localhost:8080/"
    },
    "id": "V57H0tUrn4fU",
    "outputId": "8e2276f3-6079-4953-ef30-59c17f3dff60"
   },
   "outputs": [
    {
     "data": {
      "text/plain": [
       "0    4.526\n",
       "1    3.585\n",
       "2    3.521\n",
       "3    3.413\n",
       "4    3.422\n",
       "Name: MedHouseVal, dtype: float64"
      ]
     },
     "execution_count": 5,
     "metadata": {},
     "output_type": "execute_result"
    }
   ],
   "source": [
    "y.head()"
   ]
  },
  {
   "cell_type": "markdown",
   "metadata": {
    "id": "FTnpV6DOlqUG"
   },
   "source": [
    "$R_m$ — множество объектов в разбиваемой вершине, $j$ — номер признака, по которому происходит разбиение, $t$ — порог разбиения.\n",
    "\n",
    "Можно вычислять Information Gain, а можно считать ошибку:\n",
    "\n",
    "$$ Q(R_m, j, t) = \\frac{|R_\\ell|}{|R_m|}H(R_\\ell) + \\frac{|R_r|}{|R_m|}H(R_r) \\to \\min_{j, t} $$\n",
    "$R_\\ell$ — множество объектов в левом поддереве, $R_r$ — множество объектов в правом поддереве.\n",
    "\n",
    "$H(R)$ — критерий информативности, с помощью которого можно оценить качество распределения целевой переменной среди объектов множества $R$.\n",
    "\n",
    "Реализуйте подсчёт критерия ошибки. Для этого реализуйте функции для подсчёта значения критерия информативности, а также для разбиения вершины."
   ]
  },
  {
   "cell_type": "markdown",
   "metadata": {
    "id": "x-z5nzQkpwTS"
   },
   "source": [
    "Разбейте данные на тренировочную и тестовую части. В тестовую часть отправьте четверть всех данных. Зафиксируйте random_state при разбиении."
   ]
  },
  {
   "cell_type": "code",
   "execution_count": 6,
   "metadata": {
    "id": "K9-EYgtay8wA"
   },
   "outputs": [],
   "source": [
    "X_train, X_test, y_train, y_test = train_test_split(X, y, test_size=0.25, random_state=111)"
   ]
  },
  {
   "cell_type": "markdown",
   "metadata": {
    "id": "53v2RofYp03y"
   },
   "source": [
    "Чтобы было удобно сортировать объекты вместе с целевой переменной, \n",
    "допишем target в таблицу X_train."
   ]
  },
  {
   "cell_type": "code",
   "execution_count": 7,
   "metadata": {
    "id": "V1yCPWDeyqxX"
   },
   "outputs": [],
   "source": [
    "X_train[\"target\"] = y_train"
   ]
  },
  {
   "cell_type": "markdown",
   "metadata": {
    "id": "mW_JnsfNp-B7"
   },
   "source": [
    "Возьмём для примера признак AveRooms и подберём для него оптимальный порог.\n",
    "\n",
    "Для удобства перебора порога отсортируем по этому признаку таблицу."
   ]
  },
  {
   "cell_type": "code",
   "execution_count": 8,
   "metadata": {
    "id": "yjB40hdSyq59"
   },
   "outputs": [],
   "source": [
    "X_train.sort_values(\"AveRooms\", inplace=True)"
   ]
  },
  {
   "cell_type": "code",
   "execution_count": 9,
   "metadata": {
    "colab": {
     "base_uri": "https://localhost:8080/",
     "height": 206
    },
    "id": "Zh-s_Teiyq9R",
    "outputId": "023c0cfa-421d-4919-fdd9-4ab59d990389"
   },
   "outputs": [
    {
     "data": {
      "text/html": [
       "<div>\n",
       "<style scoped>\n",
       "    .dataframe tbody tr th:only-of-type {\n",
       "        vertical-align: middle;\n",
       "    }\n",
       "\n",
       "    .dataframe tbody tr th {\n",
       "        vertical-align: top;\n",
       "    }\n",
       "\n",
       "    .dataframe thead th {\n",
       "        text-align: right;\n",
       "    }\n",
       "</style>\n",
       "<table border=\"1\" class=\"dataframe\">\n",
       "  <thead>\n",
       "    <tr style=\"text-align: right;\">\n",
       "      <th></th>\n",
       "      <th>MedInc</th>\n",
       "      <th>HouseAge</th>\n",
       "      <th>AveRooms</th>\n",
       "      <th>AveBedrms</th>\n",
       "      <th>Population</th>\n",
       "      <th>AveOccup</th>\n",
       "      <th>Latitude</th>\n",
       "      <th>Longitude</th>\n",
       "      <th>target</th>\n",
       "    </tr>\n",
       "  </thead>\n",
       "  <tbody>\n",
       "    <tr>\n",
       "      <th>5916</th>\n",
       "      <td>2.8750</td>\n",
       "      <td>46.0</td>\n",
       "      <td>0.846154</td>\n",
       "      <td>0.846154</td>\n",
       "      <td>24.0</td>\n",
       "      <td>1.846154</td>\n",
       "      <td>34.28</td>\n",
       "      <td>-118.44</td>\n",
       "      <td>1.625</td>\n",
       "    </tr>\n",
       "    <tr>\n",
       "      <th>3126</th>\n",
       "      <td>2.3750</td>\n",
       "      <td>4.0</td>\n",
       "      <td>1.000000</td>\n",
       "      <td>1.000000</td>\n",
       "      <td>6.0</td>\n",
       "      <td>3.000000</td>\n",
       "      <td>35.21</td>\n",
       "      <td>-117.79</td>\n",
       "      <td>1.375</td>\n",
       "    </tr>\n",
       "    <tr>\n",
       "      <th>17820</th>\n",
       "      <td>1.0938</td>\n",
       "      <td>20.0</td>\n",
       "      <td>1.130435</td>\n",
       "      <td>1.043478</td>\n",
       "      <td>120.0</td>\n",
       "      <td>1.739130</td>\n",
       "      <td>37.37</td>\n",
       "      <td>-121.90</td>\n",
       "      <td>1.875</td>\n",
       "    </tr>\n",
       "    <tr>\n",
       "      <th>14818</th>\n",
       "      <td>1.9107</td>\n",
       "      <td>36.0</td>\n",
       "      <td>1.130435</td>\n",
       "      <td>0.608696</td>\n",
       "      <td>58.0</td>\n",
       "      <td>2.521739</td>\n",
       "      <td>32.68</td>\n",
       "      <td>-117.11</td>\n",
       "      <td>1.250</td>\n",
       "    </tr>\n",
       "    <tr>\n",
       "      <th>4552</th>\n",
       "      <td>1.0769</td>\n",
       "      <td>52.0</td>\n",
       "      <td>1.260870</td>\n",
       "      <td>1.163043</td>\n",
       "      <td>171.0</td>\n",
       "      <td>1.858696</td>\n",
       "      <td>34.04</td>\n",
       "      <td>-118.24</td>\n",
       "      <td>1.125</td>\n",
       "    </tr>\n",
       "  </tbody>\n",
       "</table>\n",
       "</div>"
      ],
      "text/plain": [
       "       MedInc  HouseAge  AveRooms  AveBedrms  Population  AveOccup  Latitude  \\\n",
       "5916   2.8750      46.0  0.846154   0.846154        24.0  1.846154     34.28   \n",
       "3126   2.3750       4.0  1.000000   1.000000         6.0  3.000000     35.21   \n",
       "17820  1.0938      20.0  1.130435   1.043478       120.0  1.739130     37.37   \n",
       "14818  1.9107      36.0  1.130435   0.608696        58.0  2.521739     32.68   \n",
       "4552   1.0769      52.0  1.260870   1.163043       171.0  1.858696     34.04   \n",
       "\n",
       "       Longitude  target  \n",
       "5916     -118.44   1.625  \n",
       "3126     -117.79   1.375  \n",
       "17820    -121.90   1.875  \n",
       "14818    -117.11   1.250  \n",
       "4552     -118.24   1.125  "
      ]
     },
     "execution_count": 9,
     "metadata": {},
     "output_type": "execute_result"
    }
   ],
   "source": [
    "X_train.head()"
   ]
  },
  {
   "cell_type": "markdown",
   "metadata": {
    "id": "O8-WW85VqNIH"
   },
   "source": [
    "Переберите в цикле все возможные пороги для разбиения тренировочных данных по признаку AveRooms.\n",
    "\n",
    "Для каждого разбиения необходимо вычислить ошибку Q: сначала для правого и левого поддеревьев вычисляем критерий информативности (дисперсию таргета), затем складываем полученные значения с весами."
   ]
  },
  {
   "cell_type": "code",
   "execution_count": 10,
   "metadata": {
    "id": "u0APXaA0yq_0"
   },
   "outputs": [],
   "source": [
    "Qs = [] # список ошибок для каждого порога\n",
    "n = X_train.shape[0]\n",
    "\n",
    "for i in range(1, n):\n",
    "    L = X_train[:i]\n",
    "    R = X_train[i:]\n",
    "    \n",
    "    nL = L.shape[0]\n",
    "    nR = R.shape[0]\n",
    "    \n",
    "    ML = sum(L['target']) / nL\n",
    "    MR = sum(R['target']) / nR\n",
    "    \n",
    "    DL = sum([(x - ML) ** 2 for x in L['target']]) / nL\n",
    "    DR = sum([(x - MR) ** 2 for x in R['target']]) / nR\n",
    "    \n",
    "    qual = nL / n * DL + nR / n * DR   # вычислите Q\n",
    "    Qs.append(qual)"
   ]
  },
  {
   "cell_type": "markdown",
   "metadata": {
    "id": "TEPsgJHGq7cK"
   },
   "source": [
    "Нарисуйте график зависимости Q от порога."
   ]
  },
  {
   "cell_type": "code",
   "execution_count": 14,
   "metadata": {
    "id": "XwAzVdImyrC5"
   },
   "outputs": [
    {
     "data": {
      "image/png": "[encoded data removed]",
      "text/plain": [
       "<Figure size 432x288 with 1 Axes>"
      ]
     },
     "metadata": {
      "needs_background": "light"
     },
     "output_type": "display_data"
    }
   ],
   "source": [
    "plt.plot(X_train[\"AveRooms\"], Qs, color='Green')\n",
    "plt.ylabel('Q')\n",
    "plt.grid(True)"
   ]
  },
  {
   "cell_type": "markdown",
   "metadata": {
    "id": "qOJcXnOxzMNn"
   },
   "source": [
    "Чем меньше Q, тем лучше. \n",
    "\n",
    "При каком приблизительно значении порога достигается минимум Q?"
   ]
  },
  {
   "cell_type": "markdown",
   "metadata": {
    "id": "gDRWGxsqzNVi"
   },
   "source": [
    "Теперь повторите процедуру вычисления Q для каждого признака.\n",
    "\n",
    "Чтобы было удобно сравнивать значение Q для разных признаков, отобразите все графики на одном рисунке.\n",
    "\n",
    "Комментарий: множество значений у каждого признака своё, поэтому будем откладывать по оси x просто числа от 0 до длины выборки. Величину оптимального порога по графику будет определить невозможно, зато вы сможете определить оптимальный признак для разбиения."
   ]
  },
  {
   "cell_type": "code",
   "execution_count": 17,
   "metadata": {
    "id": "0o4NIh4kyrHB"
   },
   "outputs": [
    {
     "data": {
      "text/plain": [
       "<matplotlib.legend.Legend at 0x188ea68ffd0>"
      ]
     },
     "execution_count": 17,
     "metadata": {},
     "output_type": "execute_result"
    },
    {
     "data": {
      "image/png": "[encoded data removed]",
      "text/plain": [
       "<Figure size 432x288 with 1 Axes>"
      ]
     },
     "metadata": {
      "needs_background": "light"
     },
     "output_type": "display_data"
    }
   ],
   "source": [
    "for feat in X_train.columns[:-1]:\n",
    "    Qs = []\n",
    "    X_train.sort_values(feat, inplace=True)\n",
    "    for i in range(X_train.shape[0]):\n",
    "        qual = X_train[\"target\"][:i].std()**2 * i/X_train.shape[0] + X_train[\"target\"][i:].std()**2 * (1-i/X_train.shape[0])\n",
    "        Qs.append(qual)\n",
    "    plt.plot(Qs, label=feat)\n",
    "\n",
    "    \n",
    "plt.ylabel('Q')\n",
    "plt.grid(True)\n",
    "plt.legend(loc=(1, 0))"
   ]
  },
  {
   "cell_type": "markdown",
   "metadata": {
    "id": "7gQPbsmZzbkR"
   },
   "source": [
    "Для разбиения по какому признаку достигается наименьшее значение критерия Q?\n",
    "\n",
    "Нарисуйте для него график отдельно (уже с его осью значений порога)."
   ]
  },
  {
   "cell_type": "code",
   "execution_count": 30,
   "metadata": {},
   "outputs": [],
   "source": [
    "Qs = []\n",
    "X_train.sort_values(\"MedInc\", inplace=True)\n",
    "for i in range(X_train.shape[0]):\n",
    "    qual = X_train[\"target\"][:i].std()**2 * i/X_train.shape[0] + X_train[\"target\"][i:].std()**2 * (1-i/X_train.shape[0])\n",
    "    Qs.append(qual)"
   ]
  },
  {
   "cell_type": "code",
   "execution_count": 31,
   "metadata": {
    "id": "hNdGw7lhyrKG"
   },
   "outputs": [
    {
     "data": {
      "image/png": "[encoded data removed]",
      "text/plain": [
       "<Figure size 432x288 with 1 Axes>"
      ]
     },
     "metadata": {
      "needs_background": "light"
     },
     "output_type": "display_data"
    }
   ],
   "source": [
    "plt.plot(X_train[\"MedInc\"], Qs, color='Green')\n",
    "plt.ylabel('Q')\n",
    "plt.grid(True)"
   ]
  },
  {
   "cell_type": "markdown",
   "metadata": {
    "id": "s30SMJFPzghZ"
   },
   "source": [
    "Вычислите оптимальное значение порога."
   ]
  },
  {
   "cell_type": "code",
   "execution_count": 32,
   "metadata": {
    "id": "daHQPt71zhnE"
   },
   "outputs": [],
   "source": [
    "mask = np.logical_not(np.isnan(Qs))\n",
    "Qs = np.array(Qs)[mask]\n",
    "threshs = X_train[\"MedInc\"].values[mask]\n",
    "\n",
    "thresh = threshs[np.argmin(Qs)]"
   ]
  },
  {
   "cell_type": "code",
   "execution_count": 33,
   "metadata": {},
   "outputs": [
    {
     "data": {
      "text/plain": [
       "5.0858"
      ]
     },
     "execution_count": 33,
     "metadata": {},
     "output_type": "execute_result"
    }
   ],
   "source": [
    "thresh"
   ]
  },
  {
   "cell_type": "markdown",
   "metadata": {
    "id": "yzx6ZBSmzk8J"
   },
   "source": [
    "Нарисуйте выборку в осях найденного признака и таргета и отобразите на графике порог, по которому выполняется разбиение."
   ]
  },
  {
   "cell_type": "code",
   "execution_count": 37,
   "metadata": {
    "id": "pcGKbPPBzl6i"
   },
   "outputs": [
    {
     "data": {
      "text/plain": [
       "Text(0, 0.5, 'Target')"
      ]
     },
     "execution_count": 37,
     "metadata": {},
     "output_type": "execute_result"
    },
    {
     "data": {
      "image/png": "[encoded data removed]",
      "text/plain": [
       "<Figure size 432x288 with 1 Axes>"
      ]
     },
     "metadata": {
      "needs_background": "light"
     },
     "output_type": "display_data"
    }
   ],
   "source": [
    "plt.scatter(X_train[\"MedInc\"], X_train[\"target\"])\n",
    "plt.plot([thresh, thresh], [0, 5], color=\"red\")\n",
    "plt.xlabel(\"MedInc\")\n",
    "plt.ylabel(\"Target\")"
   ]
  },
  {
   "cell_type": "markdown",
   "metadata": {
    "id": "15F7qTASzpse"
   },
   "source": [
    "Какой вывод можно сделать из визуального анализа последнего графика?"
   ]
  },
  {
   "cell_type": "markdown",
   "metadata": {
    "id": "Q1iC5S3-uCSy"
   },
   "source": [
    "|"
   ]
  },
  {
   "cell_type": "markdown",
   "metadata": {
    "id": "I_oUjoGXuGF1"
   },
   "source": [
    "|"
   ]
  },
  {
   "cell_type": "markdown",
   "metadata": {
    "id": "Y-0eNcJEuG4E"
   },
   "source": [
    "|"
   ]
  },
  {
   "cell_type": "markdown",
   "metadata": {
    "id": "xKuIQHKXuI8o"
   },
   "source": [
    "|"
   ]
  },
  {
   "cell_type": "markdown",
   "metadata": {
    "id": "WTrUl8rduJBk"
   },
   "source": [
    "|"
   ]
  },
  {
   "cell_type": "markdown",
   "metadata": {
    "id": "OKQKJ2K9uJF4"
   },
   "source": [
    "|"
   ]
  },
  {
   "cell_type": "markdown",
   "metadata": {
    "id": "nT5CYSjwuJMe"
   },
   "source": [
    "|"
   ]
  },
  {
   "cell_type": "markdown",
   "metadata": {
    "id": "Vkgqw1cguJRe"
   },
   "source": [
    "|"
   ]
  },
  {
   "cell_type": "markdown",
   "metadata": {
    "id": "AWuu_QkQuJWr"
   },
   "source": [
    "|"
   ]
  },
  {
   "cell_type": "markdown",
   "metadata": {
    "id": "lg-ao7_guJa9"
   },
   "source": [
    "|"
   ]
  },
  {
   "cell_type": "markdown",
   "metadata": {
    "id": "CJ0mhdvTuJeT"
   },
   "source": [
    "|"
   ]
  },
  {
   "cell_type": "markdown",
   "metadata": {
    "id": "jPa6SQ9WvFGy"
   },
   "source": [
    "# Проверьте своё решение\n",
    "\n",
    "Разбейте данные на тренировочную и тестовую части. В тестовую часть отправьте четверть всех данных. Зафиксируйте random_state при разбиении."
   ]
  },
  {
   "cell_type": "code",
   "execution_count": 35,
   "metadata": {
    "id": "O4uXMBoRvFHC"
   },
   "outputs": [],
   "source": [
    "X_train, X_test, y_train, y_test = train_test_split(X, y, test_size=0.25, random_state=111)"
   ]
  },
  {
   "cell_type": "markdown",
   "metadata": {
    "id": "7NkgX2_GvFHC"
   },
   "source": [
    "Чтобы было удобно сортировать объекты вместе с целевой переменной, \n",
    "допишем target в таблицу X_train."
   ]
  },
  {
   "cell_type": "code",
   "execution_count": 36,
   "metadata": {
    "id": "7aEr_OZzvFHD"
   },
   "outputs": [],
   "source": [
    "X_train[\"target\"] = y_train"
   ]
  },
  {
   "cell_type": "markdown",
   "metadata": {
    "id": "TIXWbBcNvFHD"
   },
   "source": [
    "Возьмём для примера признак AveRooms и подберём для него оптимальный порог.\n",
    "\n",
    "Для удобства перебора порога отсортируем по этому признаку таблицу."
   ]
  },
  {
   "cell_type": "code",
   "execution_count": 37,
   "metadata": {
    "id": "ZeR7TCqOvFHD"
   },
   "outputs": [],
   "source": [
    "X_train.sort_values(\"AveRooms\", inplace=True)"
   ]
  },
  {
   "cell_type": "code",
   "execution_count": 38,
   "metadata": {
    "colab": {
     "base_uri": "https://localhost:8080/",
     "height": 206
    },
    "id": "bl2YM6qfvFHD",
    "outputId": "023c0cfa-421d-4919-fdd9-4ab59d990389"
   },
   "outputs": [
    {
     "data": {
      "text/html": [
       "<div>\n",
       "<style scoped>\n",
       "    .dataframe tbody tr th:only-of-type {\n",
       "        vertical-align: middle;\n",
       "    }\n",
       "\n",
       "    .dataframe tbody tr th {\n",
       "        vertical-align: top;\n",
       "    }\n",
       "\n",
       "    .dataframe thead th {\n",
       "        text-align: right;\n",
       "    }\n",
       "</style>\n",
       "<table border=\"1\" class=\"dataframe\">\n",
       "  <thead>\n",
       "    <tr style=\"text-align: right;\">\n",
       "      <th></th>\n",
       "      <th>MedInc</th>\n",
       "      <th>HouseAge</th>\n",
       "      <th>AveRooms</th>\n",
       "      <th>AveBedrms</th>\n",
       "      <th>Population</th>\n",
       "      <th>AveOccup</th>\n",
       "      <th>Latitude</th>\n",
       "      <th>Longitude</th>\n",
       "      <th>target</th>\n",
       "    </tr>\n",
       "  </thead>\n",
       "  <tbody>\n",
       "    <tr>\n",
       "      <th>5916</th>\n",
       "      <td>2.8750</td>\n",
       "      <td>46.0</td>\n",
       "      <td>0.846154</td>\n",
       "      <td>0.846154</td>\n",
       "      <td>24.0</td>\n",
       "      <td>1.846154</td>\n",
       "      <td>34.28</td>\n",
       "      <td>-118.44</td>\n",
       "      <td>1.625</td>\n",
       "    </tr>\n",
       "    <tr>\n",
       "      <th>3126</th>\n",
       "      <td>2.3750</td>\n",
       "      <td>4.0</td>\n",
       "      <td>1.000000</td>\n",
       "      <td>1.000000</td>\n",
       "      <td>6.0</td>\n",
       "      <td>3.000000</td>\n",
       "      <td>35.21</td>\n",
       "      <td>-117.79</td>\n",
       "      <td>1.375</td>\n",
       "    </tr>\n",
       "    <tr>\n",
       "      <th>17820</th>\n",
       "      <td>1.0938</td>\n",
       "      <td>20.0</td>\n",
       "      <td>1.130435</td>\n",
       "      <td>1.043478</td>\n",
       "      <td>120.0</td>\n",
       "      <td>1.739130</td>\n",
       "      <td>37.37</td>\n",
       "      <td>-121.90</td>\n",
       "      <td>1.875</td>\n",
       "    </tr>\n",
       "    <tr>\n",
       "      <th>14818</th>\n",
       "      <td>1.9107</td>\n",
       "      <td>36.0</td>\n",
       "      <td>1.130435</td>\n",
       "      <td>0.608696</td>\n",
       "      <td>58.0</td>\n",
       "      <td>2.521739</td>\n",
       "      <td>32.68</td>\n",
       "      <td>-117.11</td>\n",
       "      <td>1.250</td>\n",
       "    </tr>\n",
       "    <tr>\n",
       "      <th>4552</th>\n",
       "      <td>1.0769</td>\n",
       "      <td>52.0</td>\n",
       "      <td>1.260870</td>\n",
       "      <td>1.163043</td>\n",
       "      <td>171.0</td>\n",
       "      <td>1.858696</td>\n",
       "      <td>34.04</td>\n",
       "      <td>-118.24</td>\n",
       "      <td>1.125</td>\n",
       "    </tr>\n",
       "  </tbody>\n",
       "</table>\n",
       "</div>"
      ],
      "text/plain": [
       "       MedInc  HouseAge  AveRooms  AveBedrms  Population  AveOccup  Latitude  \\\n",
       "5916   2.8750      46.0  0.846154   0.846154        24.0  1.846154     34.28   \n",
       "3126   2.3750       4.0  1.000000   1.000000         6.0  3.000000     35.21   \n",
       "17820  1.0938      20.0  1.130435   1.043478       120.0  1.739130     37.37   \n",
       "14818  1.9107      36.0  1.130435   0.608696        58.0  2.521739     32.68   \n",
       "4552   1.0769      52.0  1.260870   1.163043       171.0  1.858696     34.04   \n",
       "\n",
       "       Longitude  target  \n",
       "5916     -118.44   1.625  \n",
       "3126     -117.79   1.375  \n",
       "17820    -121.90   1.875  \n",
       "14818    -117.11   1.250  \n",
       "4552     -118.24   1.125  "
      ]
     },
     "execution_count": 38,
     "metadata": {},
     "output_type": "execute_result"
    }
   ],
   "source": [
    "X_train.head()"
   ]
  },
  {
   "cell_type": "markdown",
   "metadata": {
    "id": "63FIiH44vFHE"
   },
   "source": [
    "Переберите в цикле все возможные пороги для разбиения тренировочных данных по признаку AveRooms.\n",
    "\n",
    "Для каждого разбиения необходимо вычислить ошибку Q: сначала для правого и левого поддеревьев вычисляем критерий информативности (дисперсию таргета), затем складываем полученные значения с весами."
   ]
  },
  {
   "cell_type": "code",
   "execution_count": 39,
   "metadata": {
    "id": "WVpfa646vFHE"
   },
   "outputs": [],
   "source": [
    "Qs = [] # список ошибок для каждого порога\n",
    "\n",
    "for i in range(X_train.shape[0]):\n",
    "    qual = X_train[\"target\"][:i].std()**2 * i/X_train.shape[0] + \\\n",
    "    X_train[\"target\"][i:].std()**2 * (1-i/X_train.shape[0])\n",
    "    Qs.append(qual)"
   ]
  },
  {
   "cell_type": "markdown",
   "metadata": {
    "id": "pEsYvPWuvFHE"
   },
   "source": [
    "Нарисуйте график зависимости Q от порога."
   ]
  },
  {
   "cell_type": "code",
   "execution_count": 40,
   "metadata": {
    "colab": {
     "base_uri": "https://localhost:8080/",
     "height": 296
    },
    "id": "j9yU_Vg8vFHF",
    "outputId": "6e74f604-99c7-401d-81c6-d136a6702127"
   },
   "outputs": [
    {
     "data": {
      "text/plain": [
       "Text(0, 0.5, 'Q')"
      ]
     },
     "execution_count": 40,
     "metadata": {},
     "output_type": "execute_result"
    },
    {
     "data": {
      "image/png": "[encoded data removed]",
      "text/plain": [
       "<Figure size 432x288 with 1 Axes>"
      ]
     },
     "metadata": {
      "needs_background": "light"
     },
     "output_type": "display_data"
    }
   ],
   "source": [
    "plt.plot(X_train[\"AveRooms\"], Qs)\n",
    "plt.xlabel(\"AveRooms\")\n",
    "plt.ylabel(\"Q\")"
   ]
  },
  {
   "cell_type": "markdown",
   "metadata": {
    "id": "h6oDI22XvFHF"
   },
   "source": [
    "Чем меньше Q, тем лучше. \n",
    "\n",
    "При каком приблизительно значении порога достигается минимум Q?"
   ]
  },
  {
   "cell_type": "markdown",
   "metadata": {
    "id": "ev9eRk-ovFHF"
   },
   "source": [
    "Теперь повторите процедуру вычисления Q для каждого признака.\n",
    "\n",
    "Чтобы было удобно сравнивать значение Q для разных признаков, отобразите все графики на одном рисунке.\n",
    "\n",
    "Комментарий: множество значений у каждого признака своё, поэтому будем откладывать по оси x просто числа от 0 до длины выборки. Величину оптимального порога по графику будет определить невозможно, зато вы сможете определить оптимальный признак для разбиения."
   ]
  },
  {
   "cell_type": "code",
   "execution_count": 41,
   "metadata": {
    "colab": {
     "base_uri": "https://localhost:8080/",
     "height": 296
    },
    "id": "SOel0RRdvFHF",
    "outputId": "efcd171a-46b3-45af-cb06-9162dcdd0a78"
   },
   "outputs": [
    {
     "data": {
      "text/plain": [
       "<matplotlib.legend.Legend at 0x2233bf57a00>"
      ]
     },
     "execution_count": 41,
     "metadata": {},
     "output_type": "execute_result"
    },
    {
     "data": {
      "image/png": "[encoded data removed]",
      "text/plain": [
       "<Figure size 432x288 with 1 Axes>"
      ]
     },
     "metadata": {
      "needs_background": "light"
     },
     "output_type": "display_data"
    }
   ],
   "source": [
    "for feat in X_train.columns[:-1]:\n",
    "    Qs = []\n",
    "    X_train.sort_values(feat, inplace=True)\n",
    "    for i in range(X_train.shape[0]):\n",
    "        qual = X_train[\"target\"][:i].std()**2 * i/X_train.shape[0] + X_train[\"target\"][i:].std()**2 * (1-i/X_train.shape[0])\n",
    "        Qs.append(qual)\n",
    "    plt.plot(Qs, label=feat)\n",
    "plt.xlabel(\"Dataset splits\")\n",
    "plt.ylabel(\"Q\")\n",
    "plt.legend(loc=(1, 0))"
   ]
  },
  {
   "cell_type": "markdown",
   "metadata": {
    "id": "nQd6hqPxvFHG"
   },
   "source": [
    "Для разбиения по какому признаку достигается наименьшее значение критерия Q?\n",
    "\n",
    "Нарисуйте для него график отдельно (уже с его осью значений порога)."
   ]
  },
  {
   "cell_type": "code",
   "execution_count": null,
   "metadata": {
    "colab": {
     "base_uri": "https://localhost:8080/",
     "height": 296
    },
    "id": "RgYsOjrsvFHG",
    "outputId": "4ccf53e8-4fd0-4708-9ab3-b2f6f677680d"
   },
   "outputs": [
    {
     "data": {
      "text/plain": [
       "Text(0, 0.5, 'Q')"
      ]
     },
     "execution_count": 63,
     "metadata": {},
     "output_type": "execute_result"
    },
    {
     "data": {
      "image/png": "[encoded data removed]",
      "text/plain": [
       "<Figure size 432x288 with 1 Axes>"
      ]
     },
     "metadata": {
      "needs_background": "light"
     },
     "output_type": "display_data"
    }
   ],
   "source": [
    "ftr = \"MedInc\"\n",
    "Qs = []\n",
    "X_train.sort_values(ftr, inplace=True)\n",
    "for i in range(X_train.shape[0]):\n",
    "    qual = X_train[\"target\"][:i].std()**2 * i/X_train.shape[0] + \\\n",
    "    X_train[\"target\"][i:].std()**2 * (1-i/X_train.shape[0])\n",
    "    Qs.append(qual)\n",
    "plt.plot(X_train[ftr], Qs)\n",
    "plt.xlabel(\"feature \"+ftr)\n",
    "plt.ylabel(\"Q\")"
   ]
  },
  {
   "cell_type": "markdown",
   "metadata": {
    "id": "IT_m2cUAvFHG"
   },
   "source": [
    "Вычислите оптимальное значение порога."
   ]
  },
  {
   "cell_type": "code",
   "execution_count": null,
   "metadata": {
    "colab": {
     "base_uri": "https://localhost:8080/"
    },
    "id": "GGJVUAvDvFHG",
    "outputId": "65c2b875-62df-4dc2-f9df-c4c01f15786f"
   },
   "outputs": [
    {
     "data": {
      "text/plain": [
       "5.0858"
      ]
     },
     "execution_count": 64,
     "metadata": {},
     "output_type": "execute_result"
    }
   ],
   "source": [
    "mask = np.logical_not(np.isnan(Qs))\n",
    "Qs = np.array(Qs)[mask]\n",
    "threshs = X_train[ftr].values[mask]\n",
    "\n",
    "threshs[np.argmin(Qs)]"
   ]
  },
  {
   "cell_type": "markdown",
   "metadata": {
    "id": "4mLkseQNvFHG"
   },
   "source": [
    "Нарисуйте выборку в осях найденного признака и таргета и отобразите на графике порог, по которому выполняется разбиение."
   ]
  },
  {
   "cell_type": "code",
   "execution_count": 28,
   "metadata": {
    "colab": {
     "base_uri": "https://localhost:8080/",
     "height": 296
    },
    "id": "MbRERwdTvFHH",
    "outputId": "b79ae2fb-e7d4-4348-afaf-44ba4080c45e"
   },
   "outputs": [
    {
     "ename": "NameError",
     "evalue": "name 'thresh' is not defined",
     "output_type": "error",
     "traceback": [
      "\u001b[1;31m---------------------------------------------------------------------------\u001b[0m",
      "\u001b[1;31mNameError\u001b[0m                                 Traceback (most recent call last)",
      "Input \u001b[1;32mIn [28]\u001b[0m, in \u001b[0;36m<cell line: 2>\u001b[1;34m()\u001b[0m\n\u001b[0;32m      1\u001b[0m plt\u001b[38;5;241m.\u001b[39mscatter(X_train[\u001b[38;5;124m\"\u001b[39m\u001b[38;5;124mMedInc\u001b[39m\u001b[38;5;124m\"\u001b[39m], X_train[\u001b[38;5;124m\"\u001b[39m\u001b[38;5;124mtarget\u001b[39m\u001b[38;5;124m\"\u001b[39m])\n\u001b[1;32m----> 2\u001b[0m plt\u001b[38;5;241m.\u001b[39mplot([\u001b[43mthresh\u001b[49m, thresh], [\u001b[38;5;241m0\u001b[39m, \u001b[38;5;241m60\u001b[39m], color\u001b[38;5;241m=\u001b[39m\u001b[38;5;124m\"\u001b[39m\u001b[38;5;124mred\u001b[39m\u001b[38;5;124m\"\u001b[39m)\n\u001b[0;32m      3\u001b[0m plt\u001b[38;5;241m.\u001b[39mxlabel(\u001b[38;5;124m\"\u001b[39m\u001b[38;5;124mMedInc\u001b[39m\u001b[38;5;124m\"\u001b[39m)\n\u001b[0;32m      4\u001b[0m plt\u001b[38;5;241m.\u001b[39mylabel(\u001b[38;5;124m\"\u001b[39m\u001b[38;5;124mTarget\u001b[39m\u001b[38;5;124m\"\u001b[39m)\n",
      "\u001b[1;31mNameError\u001b[0m: name 'thresh' is not defined"
     ]
    },
    {
     "data": {
      "image/png": "[encoded data removed]",
      "text/plain": [
       "<Figure size 432x288 with 1 Axes>"
      ]
     },
     "metadata": {
      "needs_background": "light"
     },
     "output_type": "display_data"
    }
   ],
   "source": [
    "plt.scatter(X_train[\"MedInc\"], X_train[\"target\"])\n",
    "plt.plot([thresh, thresh], [0, 60], color=\"red\")\n",
    "plt.xlabel(\"MedInc\")\n",
    "plt.ylabel(\"Target\")"
   ]
  },
  {
   "cell_type": "markdown",
   "metadata": {
    "id": "E2puQX3uvFHH"
   },
   "source": [
    "Из визуального анализа последнего графика понятно, что большинство значений таргета слева от разбивающей прямой меньше, чем большинство значений таргета справа от разбивающей прямой. То есть разбиение разумно делит объекты."
   ]
  }
 ],
 "metadata": {
  "colab": {
   "collapsed_sections": [
    "L1fRxjzMn2mu"
   ],
   "provenance": []
  },
  "kernelspec": {
   "display_name": "Python 3 (ipykernel)",
   "language": "python",
   "name": "python3"
  },
  "language_info": {
   "codemirror_mode": {
    "name": "ipython",
    "version": 3
   },
   "file_extension": ".py",
   "mimetype": "text/x-python",
   "name": "python",
   "nbconvert_exporter": "python",
   "pygments_lexer": "ipython3",
   "version": "3.9.12"
  }
 },
 "nbformat": 4,
 "nbformat_minor": 1
}
